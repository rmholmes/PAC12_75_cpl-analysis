{
 "cells": [
  {
   "cell_type": "code",
   "execution_count": null,
   "id": "36f861fa-0a49-446f-9a18-748133191f94",
   "metadata": {},
   "outputs": [],
   "source": [
    "import numpy as np\n",
    "import netCDF4 as nc\n",
    "import matplotlib.pyplot as plt\n",
    "import matplotlib.path as pth\n",
    "import sys\n",
    "import os\n",
    "os.chdir('/home/561/rmh561/croco/') "
   ]
  },
  {
   "cell_type": "code",
   "execution_count": null,
   "id": "346162a9-d052-4ae6-b5f4-7fbad089fb42",
   "metadata": {},
   "outputs": [],
   "source": [
    "##### Input files #########\n",
    "\n",
    "iodir = '/g/data/e14/rmh561/croco/data/OASIS_FILES/PAC12_75_cpl/' # Input repository\n",
    "\n",
    "## ATM ##e\n",
    "filea = iodir+'wrf_grd.nc' # Atmosphere grid file\n",
    "filemask= iodir +'wrf_grd.nc' # where to find CPLMASK\n",
    "extdom = 0  # which external domain should we select in CPLMASK\n",
    "\n",
    "foldout=iodir # where OASIS_FILES should be\n",
    "\n",
    "# SST for plotting:\n",
    "fileo = iodir+'croco_grd.nc'\n",
    "sstfile = iodir+'sst.nc'\n",
    "varsst = 'temp_surf'"
   ]
  },
  {
   "cell_type": "code",
   "execution_count": null,
   "id": "988e75a9-1517-4ebb-8698-75c130edb5b6",
   "metadata": {},
   "outputs": [],
   "source": [
    "# Get SST for plotting:\n",
    "ncf=nc.Dataset(sstfile,'r')\n",
    "sst=np.squeeze(ncf.variables[varsst][0,1:-1,1:-1])\n",
    "ncf.close()\n",
    "\n",
    "ncf=nc.Dataset(fileo,'r')\n",
    "lono = ncf.variables['lon_rho'][1:-1,1:-1]\n",
    "lato = ncf.variables['lat_rho'][1:-1,1:-1]\n",
    "ncf.close()"
   ]
  },
  {
   "cell_type": "code",
   "execution_count": null,
   "id": "c71021fc-5719-4447-a42a-779fcdcb1fd2",
   "metadata": {},
   "outputs": [],
   "source": [
    "# check if OASIS_FILES exits\n",
    "CHECK_FOLDER = os.path.isdir(foldout)\n",
    "# If doesn't exist, then create it.\n",
    "if not CHECK_FOLDER:\n",
    "    os.makedirs(foldout)\n",
    "    print(\"created folder : \", foldout)\n",
    "else:\n",
    "    print(foldout, \"folder already exists.\")\n",
    "##########"
   ]
  },
  {
   "cell_type": "code",
   "execution_count": null,
   "id": "3816e87e-8a3a-46cf-a3ca-0f5e4501b965",
   "metadata": {},
   "outputs": [],
   "source": [
    "#---------------------------------------------------------\n",
    "# get grids\n",
    "#---------------------------------------------------------\n",
    "\n",
    "# wrf grid\n",
    "\n",
    "ncf=nc.Dataset(filea,'r')\n",
    "lona = np.squeeze(ncf.variables['XLONG'][:])\n",
    "lata = np.squeeze(ncf.variables['XLAT'][:])\n",
    "ncf.close\n",
    "\n",
    "[jpia,jpja]=np.shape(lona)\n",
    "\n",
    "# Fix longitude cyclicity:\n",
    "for ii in range(jpja):\n",
    "    if (lona[0,ii]<=0):\n",
    "        lona[:,ii] = lona[:,ii] + 360.\n",
    "\n",
    "# make mask:\n",
    "mask = np.zeros(np.shape(lona))"
   ]
  },
  {
   "cell_type": "code",
   "execution_count": null,
   "id": "34587ab4-e08b-4dc0-a612-c9c57e1c7acb",
   "metadata": {},
   "outputs": [],
   "source": [
    "# Simple region:\n",
    "mask[np.logical_and(np.logical_and(np.logical_and(lona>=200.,lona<=240.),lata>=-10.),lata<=10.)] = 1."
   ]
  },
  {
   "cell_type": "code",
   "execution_count": null,
   "id": "a9ec24a3-5159-492d-b359-adac46b4d053",
   "metadata": {},
   "outputs": [],
   "source": [
    "# Maillard mask:\n",
    "fileout = 'smooth_mask_Maillard.nc'\n",
    "\n",
    "x1 = -90.+360.\n",
    "x2 = -85.+360.\n",
    "mu = 1.\n",
    "sig = 10.\n",
    "\n",
    "# x dependence:\n",
    "H = np.copy(mask)\n",
    "H[lona<=x1] = 1.\n",
    "reg = np.logical_and(lona>=x1,lona<=x2)\n",
    "H[reg] = 3.*((lona[reg]-x2)/(x1-x2))**2.-2.*((lona[reg]-x2)/(x1-x2))**3.\n",
    "\n",
    "# y dependence:\n",
    "I = np.exp(-0.5*((lata-mu)/sig)**2.)\n",
    "\n",
    "mask = I*H"
   ]
  },
  {
   "cell_type": "code",
   "execution_count": null,
   "id": "1281958b-cc26-44bf-8762-e23abec8bd45",
   "metadata": {},
   "outputs": [],
   "source": [
    "# Tanh-based mask:\n",
    "fileout = 'smooth_mask_tanh.nc'\n",
    "\n",
    "x1 = -90.+360.\n",
    "x2 = -85.+360.\n",
    "\n",
    "sig = 1.5\n",
    "yd = 9.\n",
    "yi = -9.\n",
    "\n",
    "# x dependence:\n",
    "H = np.copy(mask)\n",
    "H[lona<=x1] = 1.\n",
    "reg = np.logical_and(lona>=x1,lona<=x2)\n",
    "H[reg] = 3.*((lona[reg]-x2)/(x1-x2))**2.-2.*((lona[reg]-x2)/(x1-x2))**3.\n",
    "\n",
    "# y dependence:\n",
    "I = (np.tanh((lata-yi)/sig)+1.)*(np.tanh((yd-lata)/sig)+1.)/4.\n",
    "\n",
    "mask = I*H"
   ]
  },
  {
   "cell_type": "code",
   "execution_count": null,
   "id": "80b0fcae-79a7-4f04-8d6c-bc09a34ce830",
   "metadata": {},
   "outputs": [],
   "source": [
    "# plot mask:\n",
    "fig = plt.figure(figsize=(15,15))\n",
    "\n",
    "plt.subplot(2,1,1)\n",
    "plt.pcolor(lona,lata,mask)\n",
    "plt.colorbar()\n",
    "\n",
    "plt.subplot(2,1,2)\n",
    "plt.pcolor(lono,lato,sst,vmin=20.,vmax=29.,cmap='RdBu_r')\n",
    "plt.colorbar()\n",
    "plt.contour(lona,lata,mask,levels=np.arange(0.,1.,0.1),colors='k')"
   ]
  },
  {
   "cell_type": "code",
   "execution_count": null,
   "id": "acd7d8e2-8589-403b-b78c-d9d7234bd692",
   "metadata": {},
   "outputs": [],
   "source": [
    "# write mask:\n",
    "ncf=nc.Dataset(foldout+'/'+fileout,'w')\n",
    "ncf.createDimension('y',jpja)\n",
    "ncf.createDimension('x',jpia)\n",
    "tmp = ncf.createVariable('SMOOTHMASK','double',('x','y'))\n",
    "ncf.variables['SMOOTHMASK'][:] = mask\n",
    "ncf.close()"
   ]
  },
  {
   "cell_type": "code",
   "execution_count": null,
   "id": "ac42c884-0396-4f51-b46e-b36fb8a5388a",
   "metadata": {},
   "outputs": [],
   "source": [
    "# Get/compare smoothed SSTs:\n",
    "\n",
    "# Original no-masking:\n",
    "ncf=nc.Dataset(iodir+'sst_interp_smoothgauss_sigx24_sigy01c10.nc','r')\n",
    "sst_orig=np.squeeze(ncf.variables['temp_surf'][0,:,:])\n",
    "ncf.close()\n",
    "\n",
    "# New with masking:\n",
    "ncf=nc.Dataset(iodir+'sst_interp_smoothgauss_tanhmask_sigx24_cut10.nc','r')\n",
    "sst_new=np.squeeze(ncf.variables['temp_surf'][:,:])\n",
    "ncf.close()\n",
    "\n",
    "fig = plt.figure(figsize=(25,13))\n",
    "\n",
    "plt.subplot(2,2,1)\n",
    "plt.pcolor(lono,lato,sst,vmin=20.,vmax=29.,cmap='RdBu_r')\n",
    "plt.colorbar()\n",
    "plt.contour(lona,lata,mask,levels=np.arange(0.,1.,0.25),colors='k')\n",
    "plt.title('Original (CROCO) SST')\n",
    "\n",
    "plt.subplot(2,2,2)\n",
    "plt.pcolor(lona,lata,sst_orig,vmin=20.,vmax=29.,cmap='RdBu_r')\n",
    "plt.colorbar()\n",
    "plt.title('Unmasked, smoothed SST')\n",
    "\n",
    "plt.subplot(2,2,3)\n",
    "plt.pcolor(lona,lata,sst_new,vmin=20.,vmax=29.,cmap='RdBu_r')\n",
    "plt.colorbar()\n",
    "plt.title('Masked, smoothed SST')\n",
    "\n",
    "plt.subplot(2,2,4)\n",
    "plt.pcolor(lona,lata,sst_new-sst_orig,vmin=-2.,vmax=2.,cmap='RdBu_r')\n",
    "plt.colorbar()\n",
    "plt.title('Difference masked-unmasked')"
   ]
  },
  {
   "cell_type": "code",
   "execution_count": null,
   "id": "0b103dc2-c98d-4269-becc-167f137f3897",
   "metadata": {},
   "outputs": [],
   "source": []
  }
 ],
 "metadata": {
  "kernelspec": {
   "display_name": "Python [conda env:analysis3]",
   "language": "python",
   "name": "conda-env-analysis3-py"
  },
  "language_info": {
   "codemirror_mode": {
    "name": "ipython",
    "version": 3
   },
   "file_extension": ".py",
   "mimetype": "text/x-python",
   "name": "python",
   "nbconvert_exporter": "python",
   "pygments_lexer": "ipython3",
   "version": "3.9.13"
  }
 },
 "nbformat": 4,
 "nbformat_minor": 5
}
