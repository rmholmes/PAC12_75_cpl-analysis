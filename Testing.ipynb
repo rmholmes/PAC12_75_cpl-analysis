{
 "cells": [
  {
   "cell_type": "code",
   "execution_count": null,
   "id": "db28ade6-ae76-4b9f-99fb-3bdf99b843f0",
   "metadata": {},
   "outputs": [],
   "source": [
    "%matplotlib inline\n",
    "import matplotlib.pyplot as plt\n",
    "import matplotlib\n",
    "import xarray as xr\n",
    "from xgcm import Grid\n",
    "import numpy as np\n",
    "import pandas as pd\n",
    "from scipy import signal\n",
    "\n",
    "import IPython.display\n",
    "import cmocean as cm\n",
    "import sys, os, glob\n",
    "import warnings\n",
    "warnings.simplefilter(\"ignore\") \n",
    "\n",
    "from IPython.display import Image\n",
    "\n",
    "from dask.distributed import Client\n",
    "\n",
    "from matplotlib.patches import Rectangle"
   ]
  },
  {
   "cell_type": "code",
   "execution_count": null,
   "id": "33fc47fc-4c5a-44c7-be26-6ba37e514023",
   "metadata": {},
   "outputs": [],
   "source": [
    "# Load workers:\n",
    "client = Client(n_workers=7)\n",
    "client"
   ]
  },
  {
   "cell_type": "markdown",
   "id": "fe1bc2dc-8396-4f3d-a7be-f66190549da0",
   "metadata": {
    "tags": []
   },
   "source": [
    "## Testing"
   ]
  },
  {
   "cell_type": "code",
   "execution_count": null,
   "id": "7dca31ec-ffff-43d4-b893-4fdc11f1fc07",
   "metadata": {},
   "outputs": [],
   "source": [
    "base = '/g/data/e14/rmh561/croco/'\n",
    "base_data = base + 'archive/'\n",
    "base_analysis = base + '/analysis/'\n",
    "\n",
    "os.chdir(base_analysis + 'PAC12_75_cpl')\n",
    "sys.path.append(base_analysis + 'PAC12_75_cpl/Processing_Scripts')\n",
    "sys.path.append(base_analysis + 'PAC12_75_cpl/Processing_Scripts/Tracer_balance_code_LMaillard_v2')"
   ]
  },
  {
   "cell_type": "code",
   "execution_count": null,
   "id": "f9034392-09da-4fa8-ae3e-8f7a7637c6c9",
   "metadata": {},
   "outputs": [],
   "source": [
    "# Load custom scripts/tools:\n",
    "import pac12_tools as ptools\n",
    "import R_tools_fort as toolsF"
   ]
  },
  {
   "cell_type": "code",
   "execution_count": null,
   "id": "e667a860-3ff4-41d5-bde9-3bfed5032163",
   "metadata": {},
   "outputs": [],
   "source": [
    "# Reload (if needed):\n",
    "import importlib\n",
    "importlib.reload(ptools)"
   ]
  },
  {
   "cell_type": "markdown",
   "id": "8f8eed5d-f3b6-4ed3-8512-77a5572261d2",
   "metadata": {},
   "source": [
    "# Test heat budget code:"
   ]
  },
  {
   "cell_type": "code",
   "execution_count": null,
   "id": "a386acd7-3973-4377-9dbd-5b17f8d05f7b",
   "metadata": {},
   "outputs": [],
   "source": [
    "data_day = xr.open_dataset(base_data + 'PAC12_75_cpl/PAC12_75_cpl_exp05/20150201_20150228/croco_out_day.nc').rename({'time_counter':'time'})\n",
    "data_mon = xr.open_dataset(base_data + 'PAC12_75_cpl/PAC12_75_cpl_exp05/20150201_20150228/croco_out_mon.nc').rename({'time_counter':'time'})\n",
    "data_dayTIW = xr.open_dataset(base_data + 'PAC12_75_cpl/PAC12_75_cpl_exp05/20150201_20150228/croco_out_day_TIW.nc').rename({'time_counter':'time'})\n",
    "data_grd = xr.open_dataset(base_data + 'PAC12_75_cpl/PAC12_75_cpl_exp05/20150201_20150228/croco_out_grd.nc')"
   ]
  },
  {
   "cell_type": "code",
   "execution_count": null,
   "id": "96306f73-d766-4515-a970-2b6b1b654501",
   "metadata": {},
   "outputs": [],
   "source": [
    "L1, M1 = 1, 147\n",
    "[Mm,Lm] = np.shape(data_dayTIW.temp.isel(time=0).isel(s_rho_TIW=0))\n",
    "N_TIW = np.shape(data_dayTIW.s_rho_TIW)\n",
    "N = np.shape(data_mon.s_rho)\n",
    "u = data_dayTIW.u.isel(x_TIW_u=slice(1,-1)).isel(time=0)\n",
    "v = data_dayTIW.v.isel(y_TIW_v=slice(1,-1)).isel(time=0)\n",
    "h = data_grd.h.isel(x=slice(L1,L1+Lm),y=slice(M1,M1+Mm))\n",
    "zeta = data_day.zeta.isel(x_rho=slice(L1,L1+Lm),y_rho=slice(M1,M1+Mm)).isel(time=0)\n",
    "hc = data_grd.hc\n",
    "Cs_r = data_grd.Cs_r\n",
    "Cs_w = data_grd.Cs_w\n",
    "pm = data_grd.pm.isel(x=slice(L1,L1+Lm),y=slice(M1,M1+Mm))\n",
    "pn = data_grd.pn.isel(x=slice(L1,L1+Lm),y=slice(M1,M1+Mm))"
   ]
  },
  {
   "cell_type": "code",
   "execution_count": null,
   "id": "021a3024-efa7-4e62-95fb-9201c9e8003d",
   "metadata": {},
   "outputs": [],
   "source": [
    "z_r, z_w = toolsF.zlevs(h,zeta,hc,Cs_r,Cs_w)\n",
    "w = toolsF.get_omega(np.transpose(u.values, (2, 1, 0)),np.transpose(v.values, (2, 1, 0)),np.transpose(z_r[:,:,39:],(1,0,2)),np.transpose(z_w[:,:,39:],(1,0,2)),pm.T,pn.T)#,lm=1298,mm=198,n=36)"
   ]
  },
  {
   "cell_type": "markdown",
   "id": "2c52952f-6c39-4c41-b6d7-53aad4af5aba",
   "metadata": {},
   "source": [
    "# Testing high-pass filter processing scripts"
   ]
  },
  {
   "cell_type": "code",
   "execution_count": null,
   "id": "498260a8-be2a-490c-82a0-34d2558b427e",
   "metadata": {},
   "outputs": [],
   "source": [
    "# Testing high-pass filter stuff:\n",
    "file_in = base_data + 'PAC12_75_cpl/PAC12_75_cpl_exp13/20150101_20150131/croco_out_day.nc'\n",
    "file_out = 'test.nc'\n",
    "filt_width = 12.\n",
    "\n",
    "data = xr.open_dataset(file_in,chunks={'time_counter':1}).rename({'time_counter':'time'})\n",
    "data = ptools.create_coords_CROCO(data)\n",
    "DT = len(data.time)"
   ]
  },
  {
   "cell_type": "code",
   "execution_count": null,
   "id": "b5ef583e-9c89-40af-ba1c-5a6eabca0074",
   "metadata": {},
   "outputs": [],
   "source": [
    "# Testing high-pass filter stuff:\n",
    "file_in = base_data + 'PAC12_75_cpl/PAC12_75_cpl_exp13/20150101_20150131/croco_out_mon.nc'\n",
    "file_out = 'test.nc'\n",
    "filt_width = 12.\n",
    "\n",
    "data = xr.open_dataset(file_in,chunks={'time_counter':1})"
   ]
  },
  {
   "cell_type": "code",
   "execution_count": null,
   "id": "275ad2d3-0a84-4304-8080-cc002d804c42",
   "metadata": {},
   "outputs": [],
   "source": [
    "# Testing high-pass filter stuff:\n",
    "file_in_day = base_data + 'PAC12_75_cpl/PAC12_75_cpl_exp13/20150101_20150131/croco_out_day.nc'\n",
    "file_in_mon = base_data + 'PAC12_75_cpl/PAC12_75_cpl_exp13/20150101_20150131/croco_out_mon.nc'\n",
    "file_out = base_data + 'PAC12_75_cpl/PAC12_75_cpl_exp13/20150101_20150131/croco_out_mon_hp.nc'\n",
    "filt_width = 12.\n",
    "\n",
    "ds = ptools.calc_zhp_std_variables(file_in_day,file_in_mon,file_out,filt_width)"
   ]
  }
 ],
 "metadata": {
  "kernelspec": {
   "display_name": "Python [conda env:analysis3]",
   "language": "python",
   "name": "conda-env-analysis3-py"
  },
  "language_info": {
   "codemirror_mode": {
    "name": "ipython",
    "version": 3
   },
   "file_extension": ".py",
   "mimetype": "text/x-python",
   "name": "python",
   "nbconvert_exporter": "python",
   "pygments_lexer": "ipython3",
   "version": "3.9.15"
  }
 },
 "nbformat": 4,
 "nbformat_minor": 5
}
