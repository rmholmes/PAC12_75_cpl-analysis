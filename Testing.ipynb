{
 "cells": [
  {
   "cell_type": "code",
   "execution_count": null,
   "id": "db28ade6-ae76-4b9f-99fb-3bdf99b843f0",
   "metadata": {},
   "outputs": [],
   "source": [
    "%matplotlib inline\n",
    "import matplotlib.pyplot as plt\n",
    "import matplotlib\n",
    "import xarray as xr\n",
    "from xgcm import Grid\n",
    "import numpy as np\n",
    "import pandas as pd\n",
    "from scipy import signal\n",
    "\n",
    "import IPython.display\n",
    "import cmocean as cm\n",
    "import sys, os, glob\n",
    "import warnings\n",
    "warnings.simplefilter(\"ignore\") \n",
    "\n",
    "from IPython.display import Image\n",
    "\n",
    "from dask.distributed import Client\n",
    "\n",
    "from matplotlib.patches import Rectangle"
   ]
  },
  {
   "cell_type": "code",
   "execution_count": null,
   "id": "33fc47fc-4c5a-44c7-be26-6ba37e514023",
   "metadata": {},
   "outputs": [],
   "source": [
    "# Load workers:\n",
    "client = Client(n_workers=8)\n",
    "client"
   ]
  },
  {
   "cell_type": "markdown",
   "id": "fe1bc2dc-8396-4f3d-a7be-f66190549da0",
   "metadata": {
    "tags": []
   },
   "source": [
    "## Testing"
   ]
  },
  {
   "cell_type": "code",
   "execution_count": null,
   "id": "7dca31ec-ffff-43d4-b893-4fdc11f1fc07",
   "metadata": {},
   "outputs": [],
   "source": [
    "base = '/g/data/e14/rmh561/croco/'\n",
    "base_data = base + 'archive/'\n",
    "base_analysis = base + '/analysis/'\n",
    "\n",
    "os.chdir(base_analysis + 'PAC12_75_cpl')\n",
    "sys.path.append(base_analysis + 'PAC12_75_cpl/Processing_Scripts')\n",
    "sys.path.append(base_analysis + 'PAC12_75_cpl/Processing_Scripts/Tracer_balance_code_LMaillard_v2')"
   ]
  },
  {
   "cell_type": "code",
   "execution_count": null,
   "id": "f9034392-09da-4fa8-ae3e-8f7a7637c6c9",
   "metadata": {},
   "outputs": [],
   "source": [
    "# Load custom scripts/tools:\n",
    "import pac12_tools as ptools\n",
    "import R_tools_fort as toolsF"
   ]
  },
  {
   "cell_type": "code",
   "execution_count": null,
   "id": "e667a860-3ff4-41d5-bde9-3bfed5032163",
   "metadata": {},
   "outputs": [],
   "source": [
    "# Reload (if needed):\n",
    "import importlib\n",
    "importlib.reload(ptools)"
   ]
  },
  {
   "cell_type": "markdown",
   "id": "8f8eed5d-f3b6-4ed3-8512-77a5572261d2",
   "metadata": {},
   "source": [
    "# Test Lisa's heat budget code:"
   ]
  },
  {
   "cell_type": "code",
   "execution_count": null,
   "id": "a386acd7-3973-4377-9dbd-5b17f8d05f7b",
   "metadata": {},
   "outputs": [],
   "source": [
    "data_day = xr.open_dataset(base_data + 'PAC12_75_cpl/PAC12_75_cpl_exp05/20150201_20150228/croco_out_day.nc').rename({'time_counter':'time'})\n",
    "data_mon = xr.open_dataset(base_data + 'PAC12_75_cpl/PAC12_75_cpl_exp05/20150201_20150228/croco_out_mon.nc').rename({'time_counter':'time'})\n",
    "data_dayTIW = xr.open_dataset(base_data + 'PAC12_75_cpl/PAC12_75_cpl_exp05/20150201_20150228/croco_out_day_TIW.nc').rename({'time_counter':'time'})\n",
    "data_grd = xr.open_dataset(base_data + 'PAC12_75_cpl/PAC12_75_cpl_exp05/20150201_20150228/croco_out_grd.nc')"
   ]
  },
  {
   "cell_type": "code",
   "execution_count": null,
   "id": "96306f73-d766-4515-a970-2b6b1b654501",
   "metadata": {},
   "outputs": [],
   "source": [
    "L1, M1 = 1, 147\n",
    "[Mm,Lm] = np.shape(data_dayTIW.temp.isel(time=0).isel(s_rho_TIW=0))\n",
    "N_TIW = np.shape(data_dayTIW.s_rho_TIW)\n",
    "N = np.shape(data_mon.s_rho)\n",
    "u = data_dayTIW.u.isel(x_TIW_u=slice(1,-1)).isel(time=0)\n",
    "v = data_dayTIW.v.isel(y_TIW_v=slice(1,-1)).isel(time=0)\n",
    "h = data_grd.h.isel(x=slice(L1,L1+Lm),y=slice(M1,M1+Mm))\n",
    "zeta = data_day.zeta.isel(x_rho=slice(L1,L1+Lm),y_rho=slice(M1,M1+Mm)).isel(time=0)\n",
    "hc = data_grd.hc\n",
    "Cs_r = data_grd.Cs_r\n",
    "Cs_w = data_grd.Cs_w\n",
    "pm = data_grd.pm.isel(x=slice(L1,L1+Lm),y=slice(M1,M1+Mm))\n",
    "pn = data_grd.pn.isel(x=slice(L1,L1+Lm),y=slice(M1,M1+Mm))"
   ]
  },
  {
   "cell_type": "code",
   "execution_count": null,
   "id": "021a3024-efa7-4e62-95fb-9201c9e8003d",
   "metadata": {},
   "outputs": [],
   "source": [
    "z_r, z_w = toolsF.zlevs(h,zeta,hc,Cs_r,Cs_w)\n",
    "w = toolsF.get_omega(np.transpose(u.values, (2, 1, 0)),np.transpose(v.values, (2, 1, 0)),np.transpose(z_r[:,:,39:],(1,0,2)),np.transpose(z_w[:,:,39:],(1,0,2)),pm.T,pn.T)#,lm=1298,mm=198,n=36)"
   ]
  },
  {
   "cell_type": "markdown",
   "id": "2c52952f-6c39-4c41-b6d7-53aad4af5aba",
   "metadata": {},
   "source": [
    "# Test high-pass filter processing scripts"
   ]
  },
  {
   "cell_type": "code",
   "execution_count": null,
   "id": "498260a8-be2a-490c-82a0-34d2558b427e",
   "metadata": {},
   "outputs": [],
   "source": [
    "# Testing high-pass filter stuff:\n",
    "file_in = base_data + 'PAC12_75_cpl/PAC12_75_cpl_exp13/20150101_20150131/croco_out_day.nc'\n",
    "file_out = 'test.nc'\n",
    "filt_width = 12.\n",
    "\n",
    "data = xr.open_dataset(file_in,chunks={'time_counter':1}).rename({'time_counter':'time'})\n",
    "data = ptools.create_coords_CROCO(data)\n",
    "DT = len(data.time)"
   ]
  },
  {
   "cell_type": "code",
   "execution_count": null,
   "id": "b5ef583e-9c89-40af-ba1c-5a6eabca0074",
   "metadata": {},
   "outputs": [],
   "source": [
    "# Testing high-pass filter stuff:\n",
    "file_in = base_data + 'PAC12_75_cpl/PAC12_75_cpl_exp13/20150101_20150131/croco_out_mon.nc'\n",
    "file_out = 'test.nc'\n",
    "filt_width = 12.\n",
    "\n",
    "data = xr.open_dataset(file_in,chunks={'time_counter':1})"
   ]
  },
  {
   "cell_type": "code",
   "execution_count": null,
   "id": "275ad2d3-0a84-4304-8080-cc002d804c42",
   "metadata": {},
   "outputs": [],
   "source": [
    "# Testing high-pass filter stuff:\n",
    "file_in_day = base_data + 'PAC12_75_cpl/PAC12_75_cpl_exp13/20150101_20150131/croco_out_day.nc'\n",
    "filt_width = 12.\n",
    "\n",
    "ds = ptools.calc_zhp_std_variables(file_in_day,file_in_mon,file_out,filt_width)"
   ]
  },
  {
   "cell_type": "code",
   "execution_count": null,
   "id": "a4ae3f6c-0e57-4bb3-b228-ad4b4fa6b150",
   "metadata": {},
   "outputs": [],
   "source": [
    "# Testing Gaussian rather than box-car filter:\n",
    "file_in = base_data + 'PAC12_75_cpl/PAC12_75_cpl_exp13/20150101_20150131/croco_out_day.nc'\n",
    "file_out = 'test.nc'\n",
    "filt_width = 12. # Box-car filter width in degrees\n",
    "gauss_width = 6. # Gaussian filter standard deviation in degrees\n",
    "cutratio = 0.1   # Minimum amplitude of gaussian filter to keep.\n",
    "\n",
    "data = xr.open_dataset(file_in,chunks={'time_counter':1}).rename({'time_counter':'time'})\n",
    "data = ptools.create_coords_CROCO(data)\n",
    "\n",
    "SST = data.temp_surf.isel(time=0)"
   ]
  },
  {
   "cell_type": "code",
   "execution_count": null,
   "id": "6e830813-fd9d-47b6-8511-75d9d8d34121",
   "metadata": {},
   "outputs": [],
   "source": [
    "SST_boxcar = ptools.zlp_filt(SST,filt_width,typ='box')\n",
    "SST_gauss = ptools.zlp_filt(SST,gauss_width,typ='gau',cut=0.1)"
   ]
  },
  {
   "cell_type": "code",
   "execution_count": null,
   "id": "5ecf3941-96bc-4262-b8ac-8111887443ea",
   "metadata": {},
   "outputs": [],
   "source": [
    "var = SST\n",
    "width = gauss_width\n",
    "cut = cutratio\n",
    "#def zlp_filt_gauss(var,width,cut):\n",
    "    # Calculate zonal filtered version of a variable\n",
    "\n",
    "dims = var.dims\n",
    "inds = [index for index,item in enumerate(dims) if item.startswith('x')]\n",
    "if (len(inds) != 1):\n",
    "    raise RuntimeError(\"Error in zhp_filt: less than or greater than 1 zonal dimension found\")\n",
    "else:\n",
    "    x = dims[inds[0]]\n",
    "\n",
    "dx = (var[x][1]-var[x][0]).values\n",
    "\n",
    "sigx = int(width/dx)\n",
    "nn = int(3*2*sigx+1)\n",
    "\n",
    "xx = np.arange(0.,nn)\n",
    "dd = np.sqrt(((xx-int(nn/2))**2)/sigx**2)\n",
    "ww = 1./(np.sqrt(np.pi)*sigx)*np.exp(-dd**2)\n",
    "keepww = np.argwhere((ww.ravel() >= max(ww.ravel())*cutratio)); nnok=len(keepww)\n",
    "ww = ww.ravel()[keepww.astype('int')]\n",
    "ww = ww/ww.sum()\n",
    "\n",
    "weight = xr.DataArray(ww.ravel(), dims=['window'])\n",
    "\n",
    "SST_gauss = var.rolling({x:nnok},center=True).construct('window').dot(weight)\n",
    "SST_gauss"
   ]
  },
  {
   "cell_type": "code",
   "execution_count": null,
   "id": "c2cc5abe-0d49-4839-b146-55e5f87adc72",
   "metadata": {},
   "outputs": [],
   "source": [
    "plt.figure(figsize=(20,10))\n",
    "plt.subplot(2,2,1)\n",
    "SST.plot(vmin=22.,vmax=28.,cmap='RdBu_r')\n",
    "plt.gca().set_ylim([-10.,15.])\n",
    "plt.title('Raw')\n",
    "plt.subplot(2,2,2)\n",
    "SST_boxcar.plot(vmin=22.,vmax=28.,cmap='RdBu_r')\n",
    "plt.gca().set_ylim([-10.,15.])\n",
    "plt.title('Box-car 12-degree filter')\n",
    "plt.plot([200.,220.,220.,220.+filt_width,220.+filt_width,260.],[0.,0.,5.,5.,0.,0.],'-k')\n",
    "plt.subplot(2,2,3)\n",
    "SST_gauss.plot(vmin=22.,vmax=28.,cmap='RdBu_r')\n",
    "plt.gca().set_ylim([-10.,15.])\n",
    "plt.title('Gaussian 6-degree filter')\n",
    "x = 220.+xx*dx\n",
    "x = x.ravel()[keepww.astype('int')]\n",
    "plt.plot(x,ww*1000.,'-k')\n",
    "plt.subplot(2,2,4)\n",
    "(SST_boxcar-SST_gauss).plot(vmin=-0.1,vmax=0.1,cmap='RdBu_r')\n",
    "plt.gca().set_ylim([-10.,15.])\n",
    "plt.title('Difference between box-car and gaussian filter')"
   ]
  },
  {
   "cell_type": "markdown",
   "id": "cfeb49b5-f2f4-4c85-9a4b-26c4fd3b793e",
   "metadata": {},
   "source": [
    "# Test V*SST heat flux:\n"
   ]
  },
  {
   "cell_type": "code",
   "execution_count": null,
   "id": "4897fc61-9663-4640-b206-6eac29e4de5d",
   "metadata": {},
   "outputs": [],
   "source": [
    "# Testing Gaussian rather than box-car filter:\n",
    "file_in = base_data + 'PAC12_75_cpl/PAC12_75_cpl_exp13/20150101_20150131/croco_out_day.nc'\n",
    "\n",
    "data = xr.open_dataset(file_in,chunks={'time_counter':1}).rename({'time_counter':'time'})\n",
    "data = ptools.create_coords_CROCO(data)\n",
    "\n",
    "SST = data.temp_surf.isel(time=0)\n",
    "V = data.v_surf.isel(time=0)\n",
    "U = data.u_surf.isel(time=0)"
   ]
  },
  {
   "cell_type": "code",
   "execution_count": null,
   "id": "40addc63-d57e-4323-a385-3b946a1f0d45",
   "metadata": {},
   "outputs": [],
   "source": [
    "SST_hp = SST - ptools.zlp_filt(SST,6.)\n",
    "V_hp = V - ptools.zlp_filt(V,6.)\n",
    "U_hp = U - ptools.zlp_filt(U,6.)"
   ]
  },
  {
   "cell_type": "code",
   "execution_count": null,
   "id": "31ab9e43-7288-4bfe-94cf-0e977a5cbae8",
   "metadata": {},
   "outputs": [],
   "source": [
    "grid = Grid(data,coords={\"y\":{\"center\":\"y_rho\",\"inner\":\"y_v\"},\"x\":{\"center\":\"x_rho\",\"inner\":\"x_u\"}},periodic=False)"
   ]
  },
  {
   "cell_type": "code",
   "execution_count": null,
   "id": "9274988f-f4c3-45df-adda-9470d72b87c5",
   "metadata": {},
   "outputs": [],
   "source": [
    "VSST = grid.interp(V_hp,'y').rename({'x_v':'x_rho'})*SST_hp\n",
    "USST = grid.interp(U_hp,'x').rename({'y_u':'y_rho'})*SST_hp"
   ]
  },
  {
   "cell_type": "code",
   "execution_count": null,
   "id": "44a2ed2f-b9b0-40c6-abe2-e77a17c8ba9e",
   "metadata": {},
   "outputs": [],
   "source": [
    "VSST.plot()"
   ]
  },
  {
   "cell_type": "code",
   "execution_count": null,
   "id": "99d4452c-88be-4128-b6a8-f24960ead2b1",
   "metadata": {},
   "outputs": [],
   "source": []
  }
 ],
 "metadata": {
  "kernelspec": {
   "display_name": "Python [conda env:analysis3]",
   "language": "python",
   "name": "conda-env-analysis3-py"
  },
  "language_info": {
   "codemirror_mode": {
    "name": "ipython",
    "version": 3
   },
   "file_extension": ".py",
   "mimetype": "text/x-python",
   "name": "python",
   "nbconvert_exporter": "python",
   "pygments_lexer": "ipython3",
   "version": "3.9.15"
  }
 },
 "nbformat": 4,
 "nbformat_minor": 5
}
