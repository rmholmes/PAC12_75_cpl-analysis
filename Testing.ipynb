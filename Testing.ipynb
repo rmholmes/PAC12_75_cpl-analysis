{
 "cells": [
  {
   "cell_type": "code",
   "execution_count": null,
   "id": "db28ade6-ae76-4b9f-99fb-3bdf99b843f0",
   "metadata": {},
   "outputs": [],
   "source": [
    "%matplotlib inline\n",
    "import matplotlib.pyplot as plt\n",
    "import matplotlib\n",
    "import xarray as xr\n",
    "from xgcm import Grid\n",
    "import numpy as np\n",
    "import pandas as pd\n",
    "from scipy import signal\n",
    "\n",
    "import IPython.display\n",
    "import cmocean as cm\n",
    "import sys, os, glob\n",
    "import warnings\n",
    "warnings.simplefilter(\"ignore\") \n",
    "\n",
    "from IPython.display import Image\n",
    "\n",
    "from dask.distributed import Client\n",
    "\n",
    "from matplotlib.patches import Rectangle"
   ]
  },
  {
   "cell_type": "code",
   "execution_count": null,
   "id": "33fc47fc-4c5a-44c7-be26-6ba37e514023",
   "metadata": {},
   "outputs": [],
   "source": [
    "# Load workers:\n",
    "client = Client(n_workers=7)\n",
    "client"
   ]
  },
  {
   "cell_type": "markdown",
   "id": "fe1bc2dc-8396-4f3d-a7be-f66190549da0",
   "metadata": {
    "tags": []
   },
   "source": [
    "## Testing"
   ]
  },
  {
   "cell_type": "code",
   "execution_count": null,
   "id": "7dca31ec-ffff-43d4-b893-4fdc11f1fc07",
   "metadata": {},
   "outputs": [],
   "source": [
    "base = '/g/data/e14/rmh561/croco/'\n",
    "base_data = base + 'archive/'\n",
    "base_analysis = base + '/analysis/'\n",
    "\n",
    "os.chdir(base_analysis + 'PAC12_75_cpl')\n",
    "sys.path.append(base_analysis + 'PAC12_75_cpl/Processing_Scripts')\n",
    "sys.path.append(base_analysis + 'PAC12_75_cpl/Processing_Scripts/Tracer_balance_code_LMaillard_v2')"
   ]
  },
  {
   "cell_type": "code",
   "execution_count": null,
   "id": "f9034392-09da-4fa8-ae3e-8f7a7637c6c9",
   "metadata": {},
   "outputs": [],
   "source": [
    "# Load custom scripts/tools:\n",
    "import pac12_tools as ptools\n",
    "import R_tools_fort as toolsF"
   ]
  },
  {
   "cell_type": "code",
   "execution_count": null,
   "id": "e667a860-3ff4-41d5-bde9-3bfed5032163",
   "metadata": {},
   "outputs": [],
   "source": [
    "# Reload (if needed):\n",
    "import importlib\n",
    "importlib.reload(ptools)"
   ]
  },
  {
   "cell_type": "markdown",
   "id": "8f8eed5d-f3b6-4ed3-8512-77a5572261d2",
   "metadata": {},
   "source": [
    "# Test Lisa's fortran-to-python code:"
   ]
  },
  {
   "cell_type": "code",
   "execution_count": null,
   "id": "a386acd7-3973-4377-9dbd-5b17f8d05f7b",
   "metadata": {},
   "outputs": [],
   "source": [
    "data_day = xr.open_dataset(base_data + 'PAC12_75_cpl/PAC12_75_cpl_exp05/20150201_20150228/croco_out_day.nc').rename({'time_counter':'time'})\n",
    "data_mon = xr.open_dataset(base_data + 'PAC12_75_cpl/PAC12_75_cpl_exp05/20150201_20150228/croco_out_mon.nc').rename({'time_counter':'time'})\n",
    "data_dayTIW = xr.open_dataset(base_data + 'PAC12_75_cpl/PAC12_75_cpl_exp05/20150201_20150228/croco_out_day_TIW.nc').rename({'time_counter':'time'})\n",
    "data_grd = xr.open_dataset(base_data + 'PAC12_75_cpl/PAC12_75_cpl_exp05/20150201_20150228/croco_out_grd.nc')\n",
    "data_dayTIW = ptools.create_coords_CROCO_TIW(data_dayTIW,data_grd)\n",
    "rho0 = 1025.\n",
    "filt_width = 6."
   ]
  },
  {
   "cell_type": "code",
   "execution_count": null,
   "id": "f018704a-2692-43be-820b-51ea8c15aad6",
   "metadata": {},
   "outputs": [],
   "source": [
    "# Determine first index values:\n",
    "L1, M1 = 60,147\n",
    "lon1 = data_day.nav_lon_rho.isel(x_rho=L1,y_rho=M1).values\n",
    "lat1 = data_day.nav_lat_rho.isel(x_rho=L1,y_rho=M1).values\n",
    "lonTIW1 = data_dayTIW.nav_lon_rho.isel(x_rho=0,y_rho=0).values\n",
    "latTIW1 = data_dayTIW.nav_lat_rho.isel(x_rho=0,y_rho=0).values\n",
    "print('Longitudes: %3.2f %3.2f, Latitudes: %3.2f %3.2f' % (lon1,lonTIW1,lat1,latTIW1))"
   ]
  },
  {
   "cell_type": "code",
   "execution_count": null,
   "id": "96306f73-d766-4515-a970-2b6b1b654501",
   "metadata": {},
   "outputs": [],
   "source": [
    "# Calculate/subset grid quantities:\n",
    "L1, M1, S1 = 60, 147, 39\n",
    "[Mm,Lm] = np.shape(data_dayTIW.temp.isel(time=0).isel(s_rho=0))\n",
    "\n",
    "hc = data_grd.hc\n",
    "Cs_r = data_grd.Cs_r\n",
    "Cs_w = data_grd.Cs_w\n",
    "\n",
    "pm = data_dayTIW.pm\n",
    "pn = data_dayTIW.pn\n",
    "h = data_dayTIW.h"
   ]
  },
  {
   "cell_type": "code",
   "execution_count": null,
   "id": "fa4a1499-2505-4e73-b7b1-385576550461",
   "metadata": {},
   "outputs": [],
   "source": [
    "def TIWt(ds):\n",
    "    \"\"\"\n",
    "    Single time transpose on numpy array for use with Fortran code\n",
    "    \"\"\" \n",
    "    return(np.transpose(ds, (2,1,0)))"
   ]
  },
  {
   "cell_type": "code",
   "execution_count": null,
   "id": "545843db-f3dd-4c1a-b58b-8f6beab94098",
   "metadata": {},
   "outputs": [],
   "source": [
    "zeta = data_day.zeta.isel(x_rho=slice(L1,L1+Lm),y_rho=slice(M1,M1+Mm)).isel(time=0)\n",
    "\n",
    "z_r = xr.zeros_like(data_mon.z_rho.isel(x_rho=slice(L1,L1+Lm),y_rho=slice(M1,M1+Mm)).isel(s_rho=slice(S1,None)).isel(time=0))\n",
    "z_w = xr.zeros_like(data_dayTIW.omega.isel(time=0))\n",
    "\n",
    "z_rt, z_wt = toolsF.zlevs(h.T,zeta.T,hc,Cs_r,Cs_w)\n",
    "z_r.values = TIWt(z_rt[:,:,S1:])\n",
    "z_w.values = TIWt(z_wt[:,:,S1:])"
   ]
  },
  {
   "cell_type": "code",
   "execution_count": null,
   "id": "c54190fa-7c6f-4b87-8233-570136000998",
   "metadata": {},
   "outputs": [],
   "source": [
    "# Plus 1 time for vertical velocity:\n",
    "zetap1 = data_day.zeta.isel(x_rho=slice(L1,L1+Lm),y_rho=slice(M1,M1+Mm)).isel(time=1)\n",
    "\n",
    "z_rp1 = xr.zeros_like(data_mon.z_rho.isel(x_rho=slice(L1,L1+Lm),y_rho=slice(M1,M1+Mm)).isel(s_rho=slice(S1,None)).isel(time=0))\n",
    "z_wp1 = xr.zeros_like(data_dayTIW.omega.isel(time=0))\n",
    "\n",
    "z_rtp1, z_wtp1 = toolsF.zlevs(h.T,zetap1.T,hc,Cs_r,Cs_w)\n",
    "z_rp1.values = TIWt(z_rtp1[:,:,S1:])\n",
    "z_wp1.values = TIWt(z_wtp1[:,:,S1:])"
   ]
  },
  {
   "cell_type": "code",
   "execution_count": null,
   "id": "4c72c3f2-d9ac-4c12-b777-9c54ac55c90a",
   "metadata": {},
   "outputs": [],
   "source": [
    "# Setup grid object:\n",
    "grid = Grid(data_dayTIW,coords={\"x\":{\"center\":\"x_rho\",\"outer\":\"x_u\"},\n",
    "                                    \"y\":{\"center\":\"y_rho\",\"outer\":\"y_v\"},\n",
    "                                    \"s\":{\"center\":\"s_rho\",\"outer\":\"s_w\"}},periodic=False)"
   ]
  },
  {
   "cell_type": "code",
   "execution_count": null,
   "id": "04722776-37ec-46ce-a3e4-ac8d8b633940",
   "metadata": {},
   "outputs": [],
   "source": [
    "# Omega and vertical velocity calculations:\n",
    "u = data_dayTIW.u.isel(x_u=slice(1,-1)).isel(time=0)\n",
    "v = data_dayTIW.v.isel(y_v=slice(1,-1)).isel(time=0)\n",
    "omega = toolsF.get_omega(TIWt(u.values),TIWt(v.values),TIWt(z_r.values),TIWt(z_w.values),pm.T,pn.T)\n",
    "\n",
    "omega_pre = data_dayTIW.omega.isel(time=0)\n",
    "omega_pos = xr.zeros_like(omega_pre)\n",
    "omega_pos.values = np.transpose(omega, (2, 1, 0))"
   ]
  },
  {
   "cell_type": "code",
   "execution_count": null,
   "id": "021a3024-efa7-4e62-95fb-9201c9e8003d",
   "metadata": {},
   "outputs": [],
   "source": [
    "# Plot:\n",
    "fig,axes = plt.subplots(nrows=3,ncols=2,figsize=(20,15))\n",
    "omega_pre.isel(s_w=20).plot(ax=axes[0][0],vmin=-.5e-3,vmax=.5e-3,cmap='RdBu_r')\n",
    "axes[0][0].set_title('Pre-calculated')\n",
    "omega_pos.isel(s_w=20).plot(ax=axes[1][0],vmin=-.5e-3,vmax=.5e-3,cmap='RdBu_r')\n",
    "axes[1][0].set_title('Post-calculated')\n",
    "(omega_pos-omega_pre).isel(s_w=20).plot(ax=axes[0][1],vmin=-.5e-3,vmax=.5e-3,cmap='RdBu_r')\n",
    "axes[0][1].set_title('Difference')"
   ]
  },
  {
   "cell_type": "code",
   "execution_count": null,
   "id": "198ec4a6-3f04-4a7c-8018-c13e8ce2eb49",
   "metadata": {},
   "outputs": [],
   "source": [
    "# # w from get_wvlcty (I think this could be wrong because of the integral from bottom up):\n",
    "# w = toolsF.get_wvlcty(TIWt(u.values),TIWt(v.values),TIWt(z_r.values),TIWt(z_w.values),pm.T,pn.T)\n",
    "# w_pos = xr.zeros_like(data_dayTIW.temp.isel(time=0))\n",
    "# w_pos.values = np.transpose(w, (2, 1, 0))\n",
    "\n",
    "# reconstructing w from omega.\n",
    "# From https://www.myroms.org/wiki/Terrain-Following_Coordinate_Transformation:\n",
    "# w = dz/dt + u dz/dx + v dz/dy + omega\n",
    "# (Note: at the above link, the last term is omega*Hz, but the omega in the outputs is already multiplied by the Hz factor, see https://www.myroms.org/forum/viewtopic.php?t=2139\n",
    "\n",
    "w_u_cor = u.rename({'y_u':'y_rho'})*grid.diff(z_r,'x')*grid.interp(pm,'x')\n",
    "w_v_cor = v.rename({'x_v':'x_rho'})*grid.diff(z_r,'y')*grid.interp(pn,'y')\n",
    "w_t_cor = (z_rp1-z_r)/86400."
   ]
  },
  {
   "cell_type": "code",
   "execution_count": null,
   "id": "076bed57-4088-4b7a-b37d-bb6f823219f9",
   "metadata": {},
   "outputs": [],
   "source": [
    "fig,axes = plt.subplots(nrows=3,ncols=2,figsize=(20,15))\n",
    "\n",
    "index = 10\n",
    "\n",
    "omega_pre.isel(s_w=index).plot(ax=axes[0][0],vmin=-.5e-3,vmax=.5e-3,cmap='RdBu_r')\n",
    "axes[0][0].set_title('Omega [ms-1]')\n",
    "\n",
    "w_u_cor.isel(s_rho=index).plot(ax=axes[1][0],vmin=-.5e-3,vmax=.5e-3,cmap='RdBu_r')\n",
    "axes[1][0].set_title('u-correction to omega')\n",
    "w_v_cor.isel(s_rho=index).plot(ax=axes[0][1],vmin=-.5e-3,vmax=.5e-3,cmap='RdBu_r')\n",
    "axes[0][1].set_title('v-correction to omega')\n",
    "w_t_cor.isel(s_rho=index).plot(ax=axes[1][1],vmin=-.5e-3,vmax=.5e-3,cmap='RdBu_r')\n",
    "axes[1][1].set_title('z_t-correction to omega')\n",
    "z_r.isel(s_rho=index).plot(ax=axes[2][0])\n",
    "axes[2][0].set_title('rho Depth at this level')"
   ]
  },
  {
   "cell_type": "code",
   "execution_count": null,
   "id": "7eaf7ae2-5b7b-45fa-b995-c63e9ec2df8f",
   "metadata": {},
   "outputs": [],
   "source": [
    "# Buoyancy calculation:\n",
    "temp = data_dayTIW.temp.isel(time=0)\n",
    "salt = data_dayTIW.salt.isel(time=0)\n",
    "b = xr.zeros_like(temp)\n",
    "\n",
    "b.values = TIWt(toolsF.get_buoy(TIWt(temp.values),TIWt(salt.values),TIWt(z_r.values),TIWt(z_w.values),rho0))"
   ]
  },
  {
   "cell_type": "code",
   "execution_count": null,
   "id": "e1fdb519-331a-478b-ba25-2a7e27b6e5e2",
   "metadata": {},
   "outputs": [],
   "source": [
    "# Grid object:\n",
    "grid = Grid(data_dayTIW,coords={\"x\":{\"center\":\"x_rho\",\"outer\":\"x_u\"},\n",
    "                         \"y\":{\"center\":\"y_rho\",\"outer\":\"y_v\"},\n",
    "                         \"s\":{\"center\":\"s_rho\",\"outer\":\"s_w\"}},periodic=False) #NOTE: This is different to parent grid becuase _u and _v are outer not inner.\n",
    "\n",
    "# Filtering:\n",
    "u = data_dayTIW.u.isel(time=0)\n",
    "v = data_dayTIW.v.isel(time=0)\n",
    "omega = data_dayTIW.omega.isel(time=0)\n",
    "\n",
    "u_lp = ptools.zlp_filt(u,filt_width)\n",
    "u_hp = u - u_lp\n",
    "\n",
    "v_lp = ptools.zlp_filt(v,filt_width)\n",
    "v_hp = v - v_lp\n",
    "\n",
    "omega_lp = ptools.zlp_filt(omega,filt_width)\n",
    "omega_hp = omega - omega_lp\n",
    "\n",
    "b_lp = ptools.zlp_filt(b,filt_width)\n",
    "b_hp = b - b_lp"
   ]
  },
  {
   "cell_type": "code",
   "execution_count": null,
   "id": "58516973-e1fb-409a-b441-f0b676e61a7a",
   "metadata": {},
   "outputs": [],
   "source": [
    "# Do the calculations:\n",
    "uu = grid.interp(u_hp*u_hp,'x').rename({'y_u':'y_rho'})\n",
    "vv = grid.interp(v_hp*v_hp,'y').rename({'x_v':'x_rho'})\n",
    "uv = grid.interp(u_hp,'x').rename({'y_u':'y_rho'})*grid.interp(v_hp,'y').rename({'x_v':'x_rho'})\n",
    "uw = grid.interp(u_hp,'x').rename({'y_u':'y_rho'})*grid.interp(omega_hp,'s').rename({'x_w':'x_rho','y_w':'y_rho'})\n",
    "vw = grid.interp(v_hp,'y').rename({'x_v':'x_rho'})*grid.interp(omega_hp,'s').rename({'x_w':'x_rho','y_w':'y_rho'})\n",
    "wb = b_hp*grid.interp(omega_hp,'s').rename({'x_w':'x_rho','y_w':'y_rho'})"
   ]
  },
  {
   "cell_type": "code",
   "execution_count": null,
   "id": "9834d042-61f8-450b-ae70-ceda7f699c39",
   "metadata": {},
   "outputs": [],
   "source": [
    "Ux = grid.diff(u_lp,'x').rename({'y_u':'y_rho'})*data_dayTIW.pm\n",
    "Vy = grid.diff(v_lp,'y').rename({'x_v':'x_rho'})*data_dayTIW.pn"
   ]
  },
  {
   "cell_type": "code",
   "execution_count": null,
   "id": "8627f5cb-8edb-4bf5-bb3d-149386f38dce",
   "metadata": {},
   "outputs": [],
   "source": [
    "Uy = grid.interp(grid.interp(grid.diff(u_lp.rename({'y_u':'y_rho'}),'y'),'x'),'y')*data_dayTIW.pn\n",
    "Vx = grid.interp(grid.interp(grid.diff(v_lp.rename({'x_v':'x_rho'}),'x'),'x'),'y')*data_dayTIW.pm"
   ]
  },
  {
   "cell_type": "code",
   "execution_count": null,
   "id": "dacc6b3d-65f0-4884-9182-b23985306bbf",
   "metadata": {},
   "outputs": [],
   "source": [
    "Uz = grid.interp(grid.interp(grid.diff(u_lp,'s').rename({'y_u':'y_rho'}),'x')/grid.diff(z_r,'s'),'s')\n",
    "Vz = grid.interp(grid.interp(grid.diff(v_lp,'s').rename({'x_v':'x_rho'}),'y')/grid.diff(z_r,'s'),'s')"
   ]
  },
  {
   "cell_type": "code",
   "execution_count": null,
   "id": "7a96f163-a3e3-4d7a-acbc-dbb03c8720ed",
   "metadata": {},
   "outputs": [],
   "source": [
    "# Do some plotting:\n",
    "fig, axes = plt.subplots(figsize=(20,20),nrows=4,ncols=2)\n",
    "\n",
    "axs = axes.reshape(-1)\n",
    "[(uu*Ux).isel(s_rho=25).plot(ax=axs[0],vmin=-1.e-7,vmax=1.e-7,cmap='RdBu_r')\n",
    "axs[0].set_title('uu Ux')\n",
    "(uv*Uy).isel(s_rho=25).plot(ax=axs[1],vmin=-1.e-7,vmax=1.e-7,cmap='RdBu_r')\n",
    "axs[1].set_title('uv Uy')\n",
    "(uv*Vx).isel(s_rho=25).plot(ax=axs[2],vmin=-1.e-7,vmax=1.e-7,cmap='RdBu_r')\n",
    "axs[2].set_title('uv Vx')\n",
    "(vv*Vy).isel(s_rho=25).plot(ax=axs[3],vmin=-1.e-7,vmax=1.e-7,cmap='RdBu_r')\n",
    "axs[3].set_title('vv Vy')\n",
    "(uw*Uz).isel(s_rho=25).plot(ax=axs[4],vmin=-1.e-7,vmax=1.e-7,cmap='RdBu_r')\n",
    "axs[4].set_title('uw Uz')\n",
    "(vw*Vz).isel(s_rho=25).plot(ax=axs[5],vmin=-1.e-7,vmax=1.e-7,cmap='RdBu_r')\n",
    "axs[5].set_title('vu Vz')\n",
    "(wb).isel(s_rho=25).plot(ax=axs[6],vmin=-1.e-7,vmax=1.e-7,cmap='RdBu_r')\n",
    "axs[6].set_title('wb')"
   ]
  },
  {
   "cell_type": "markdown",
   "id": "2c52952f-6c39-4c41-b6d7-53aad4af5aba",
   "metadata": {},
   "source": [
    "# Test high-pass filter processing scripts"
   ]
  },
  {
   "cell_type": "code",
   "execution_count": null,
   "id": "4b9f7591-654f-418b-a2ad-405dacbc10ce",
   "metadata": {},
   "outputs": [],
   "source": [
    "# Testing 3d EKE budget high-pass filter processing (calc_zhp_3d_variables):\n",
    "file_in_day = base_data + 'PAC12_75_cpl/PAC12_75_cpl_exp13/20150101_20150131/croco_out_day.nc'\n",
    "filt_width = 12.\n",
    "\n",
    "ds = ptools.calc_zhp_std_variables(file_in_day,file_in_mon,file_out,filt_width)"
   ]
  },
  {
   "cell_type": "code",
   "execution_count": null,
   "id": "0c463b76-81dc-4c6e-b316-287b2701e3a4",
   "metadata": {},
   "outputs": [],
   "source": [
    "# Reload (if needed):\n",
    "import importlib\n",
    "importlib.reload(ptools)"
   ]
  },
  {
   "cell_type": "code",
   "execution_count": null,
   "id": "275ad2d3-0a84-4304-8080-cc002d804c42",
   "metadata": {},
   "outputs": [],
   "source": [
    "# Testing high-pass filter stuff:\n",
    "base_spec = base_data + 'PAC12_75_cpl/PAC12_75_cpl_exp05/20150101_20150131/'\n",
    "file_in_day = base_spec + 'croco_out_day.nc'\n",
    "file_in_dayTIW = base_spec + 'croco_out_day_TIW.nc'\n",
    "file_in_mon = base_spec + 'croco_out_mon.nc'\n",
    "file_in_grd = base_spec + 'croco_out_grd.nc'\n",
    "file_out = base_spec + 'croco_out_mon_TIWhp.nc'\n",
    "filt_width = 6.\n",
    "\n",
    "ptools.calc_zhp_3d_variables(file_in_dayTIW,file_in_day,file_in_mon,file_in_grd,file_out,filt_width)"
   ]
  },
  {
   "cell_type": "markdown",
   "id": "77d9ae36-7e3a-4f91-836e-2d51e040f395",
   "metadata": {},
   "source": [
    "# Testing Gaussian rather than box-car filter:"
   ]
  },
  {
   "cell_type": "code",
   "execution_count": null,
   "id": "a4ae3f6c-0e57-4bb3-b228-ad4b4fa6b150",
   "metadata": {},
   "outputs": [],
   "source": [
    "file_in = base_data + 'PAC12_75_cpl/PAC12_75_cpl_exp13/20150101_20150131/croco_out_day.nc'\n",
    "file_out = 'test.nc'\n",
    "filt_width = 12. # Box-car filter width in degrees\n",
    "gauss_width = 6. # Gaussian filter standard deviation in degrees\n",
    "cutratio = 0.1   # Minimum amplitude of gaussian filter to keep.\n",
    "\n",
    "data = xr.open_dataset(file_in,chunks={'time_counter':1}).rename({'time_counter':'time'})\n",
    "data = ptools.create_coords_CROCO(data)\n",
    "\n",
    "SST = data.temp_surf.isel(time=0)"
   ]
  },
  {
   "cell_type": "code",
   "execution_count": null,
   "id": "6e830813-fd9d-47b6-8511-75d9d8d34121",
   "metadata": {},
   "outputs": [],
   "source": [
    "SST_boxcar = ptools.zlp_filt(SST,filt_width,typ='box')\n",
    "SST_gauss = ptools.zlp_filt(SST,gauss_width,typ='gau',cut=0.1)"
   ]
  },
  {
   "cell_type": "code",
   "execution_count": null,
   "id": "5ecf3941-96bc-4262-b8ac-8111887443ea",
   "metadata": {},
   "outputs": [],
   "source": [
    "var = SST\n",
    "width = gauss_width\n",
    "cut = cutratio\n",
    "#def zlp_filt_gauss(var,width,cut):\n",
    "    # Calculate zonal filtered version of a variable\n",
    "\n",
    "dims = var.dims\n",
    "inds = [index for index,item in enumerate(dims) if item.startswith('x')]\n",
    "if (len(inds) != 1):\n",
    "    raise RuntimeError(\"Error in zhp_filt: less than or greater than 1 zonal dimension found\")\n",
    "else:\n",
    "    x = dims[inds[0]]\n",
    "\n",
    "dx = (var[x][1]-var[x][0]).values\n",
    "\n",
    "sigx = int(width/dx)\n",
    "nn = int(3*2*sigx+1)\n",
    "\n",
    "xx = np.arange(0.,nn)\n",
    "dd = np.sqrt(((xx-int(nn/2))**2)/sigx**2)\n",
    "ww = 1./(np.sqrt(np.pi)*sigx)*np.exp(-dd**2)\n",
    "keepww = np.argwhere((ww.ravel() >= max(ww.ravel())*cutratio)); nnok=len(keepww)\n",
    "ww = ww.ravel()[keepww.astype('int')]\n",
    "ww = ww/ww.sum()\n",
    "\n",
    "weight = xr.DataArray(ww.ravel(), dims=['window'])\n",
    "\n",
    "SST_gauss = var.rolling({x:nnok},center=True).construct('window').dot(weight)\n",
    "SST_gauss"
   ]
  },
  {
   "cell_type": "code",
   "execution_count": null,
   "id": "c2cc5abe-0d49-4839-b146-55e5f87adc72",
   "metadata": {},
   "outputs": [],
   "source": [
    "plt.figure(figsize=(20,10))\n",
    "plt.subplot(2,2,1)\n",
    "SST.plot(vmin=22.,vmax=28.,cmap='RdBu_r')\n",
    "plt.gca().set_ylim([-10.,15.])\n",
    "plt.title('Raw')\n",
    "plt.subplot(2,2,2)\n",
    "SST_boxcar.plot(vmin=22.,vmax=28.,cmap='RdBu_r')\n",
    "plt.gca().set_ylim([-10.,15.])\n",
    "plt.title('Box-car 12-degree filter')\n",
    "plt.plot([200.,220.,220.,220.+filt_width,220.+filt_width,260.],[0.,0.,5.,5.,0.,0.],'-k')\n",
    "plt.subplot(2,2,3)\n",
    "SST_gauss.plot(vmin=22.,vmax=28.,cmap='RdBu_r')\n",
    "plt.gca().set_ylim([-10.,15.])\n",
    "plt.title('Gaussian 6-degree filter')\n",
    "x = 220.+xx*dx\n",
    "x = x.ravel()[keepww.astype('int')]\n",
    "plt.plot(x,ww*1000.,'-k')\n",
    "plt.subplot(2,2,4)\n",
    "(SST_boxcar-SST_gauss).plot(vmin=-0.1,vmax=0.1,cmap='RdBu_r')\n",
    "plt.gca().set_ylim([-10.,15.])\n",
    "plt.title('Difference between box-car and gaussian filter')"
   ]
  },
  {
   "cell_type": "markdown",
   "id": "cfeb49b5-f2f4-4c85-9a4b-26c4fd3b793e",
   "metadata": {},
   "source": [
    "# Test V*SST heat flux:\n"
   ]
  },
  {
   "cell_type": "code",
   "execution_count": null,
   "id": "4897fc61-9663-4640-b206-6eac29e4de5d",
   "metadata": {},
   "outputs": [],
   "source": [
    "# Testing Gaussian rather than box-car filter:\n",
    "file_in = base_data + 'PAC12_75_cpl/PAC12_75_cpl_exp13/20150101_20150131/croco_out_day.nc'\n",
    "\n",
    "data = xr.open_dataset(file_in,chunks={'time_counter':1}).rename({'time_counter':'time'})\n",
    "data = ptools.create_coords_CROCO(data)\n",
    "\n",
    "SST = data.temp_surf.isel(time=0)\n",
    "V = data.v_surf.isel(time=0)\n",
    "U = data.u_surf.isel(time=0)"
   ]
  },
  {
   "cell_type": "code",
   "execution_count": null,
   "id": "40addc63-d57e-4323-a385-3b946a1f0d45",
   "metadata": {},
   "outputs": [],
   "source": [
    "SST_hp = SST - ptools.zlp_filt(SST,6.)\n",
    "V_hp = V - ptools.zlp_filt(V,6.)\n",
    "U_hp = U - ptools.zlp_filt(U,6.)"
   ]
  },
  {
   "cell_type": "code",
   "execution_count": null,
   "id": "31ab9e43-7288-4bfe-94cf-0e977a5cbae8",
   "metadata": {},
   "outputs": [],
   "source": [
    "grid = Grid(data,coords={\"y\":{\"center\":\"y_rho\",\"inner\":\"y_v\"},\"x\":{\"center\":\"x_rho\",\"inner\":\"x_u\"}},periodic=False)"
   ]
  },
  {
   "cell_type": "code",
   "execution_count": null,
   "id": "9274988f-f4c3-45df-adda-9470d72b87c5",
   "metadata": {},
   "outputs": [],
   "source": [
    "VSST = grid.interp(V_hp,'y').rename({'x_v':'x_rho'})*SST_hp\n",
    "USST = grid.interp(U_hp,'x').rename({'y_u':'y_rho'})*SST_hp"
   ]
  },
  {
   "cell_type": "code",
   "execution_count": null,
   "id": "44a2ed2f-b9b0-40c6-abe2-e77a17c8ba9e",
   "metadata": {},
   "outputs": [],
   "source": [
    "VSST.plot()"
   ]
  },
  {
   "cell_type": "code",
   "execution_count": null,
   "id": "99d4452c-88be-4128-b6a8-f24960ead2b1",
   "metadata": {},
   "outputs": [],
   "source": []
  }
 ],
 "metadata": {
  "kernelspec": {
   "display_name": "Python [conda env:analysis3]",
   "language": "python",
   "name": "conda-env-analysis3-py"
  },
  "language_info": {
   "codemirror_mode": {
    "name": "ipython",
    "version": 3
   },
   "file_extension": ".py",
   "mimetype": "text/x-python",
   "name": "python",
   "nbconvert_exporter": "python",
   "pygments_lexer": "ipython3",
   "version": "3.9.15"
  }
 },
 "nbformat": 4,
 "nbformat_minor": 5
}
