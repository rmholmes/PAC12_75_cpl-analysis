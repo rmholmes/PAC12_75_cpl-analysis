{
 "cells": [
  {
   "cell_type": "code",
   "execution_count": null,
   "id": "0",
   "metadata": {
    "tags": []
   },
   "outputs": [],
   "source": [
    "%matplotlib inline\n",
    "import matplotlib.pyplot as plt\n",
    "import matplotlib\n",
    "import xarray as xr\n",
    "from xgcm import Grid\n",
    "import numpy as np\n",
    "import pandas as pd\n",
    "\n",
    "import sys, os, glob"
   ]
  },
  {
   "cell_type": "markdown",
   "id": "1",
   "metadata": {
    "tags": []
   },
   "source": [
    "## Testing"
   ]
  },
  {
   "cell_type": "code",
   "execution_count": null,
   "id": "2",
   "metadata": {
    "tags": []
   },
   "outputs": [],
   "source": [
    "base = '/g/data/e14/rmh561/croco/'\n",
    "base_data = base + 'archive/'\n",
    "base_analysis = base + '/analysis/'\n",
    "\n",
    "os.chdir(base_analysis + 'PAC12_75_cpl')\n",
    "sys.path.append(base_analysis + 'PAC12_75_cpl/Processing_Scripts')\n",
    "sys.path.append(base_analysis + 'PAC12_75_cpl/Processing_Scripts/Tracer_balance_code_LMaillard_v2')\n",
    "sys.path.append(base_analysis + 'PAC12_75_cpl/Processing_Scripts/pyCOARE-master')"
   ]
  },
  {
   "cell_type": "code",
   "execution_count": null,
   "id": "3",
   "metadata": {
    "tags": []
   },
   "outputs": [],
   "source": [
    "# Load custom scripts/tools:\n",
    "import pac12_tools as ptools\n",
    "import R_tools_fort as toolsF\n",
    "import coare35vn\n",
    "import meteo"
   ]
  },
  {
   "cell_type": "code",
   "execution_count": null,
   "id": "4",
   "metadata": {},
   "outputs": [],
   "source": [
    "!pwd"
   ]
  },
  {
   "cell_type": "code",
   "execution_count": null,
   "id": "5",
   "metadata": {},
   "outputs": [],
   "source": [
    "# Reload (if needed):\n",
    "import importlib\n",
    "importlib.reload(ptools)"
   ]
  },
  {
   "cell_type": "markdown",
   "id": "6",
   "metadata": {},
   "source": [
    "# Calculate average alpha for APE generation using Lisa's f2py code"
   ]
  },
  {
   "cell_type": "code",
   "execution_count": null,
   "id": "7",
   "metadata": {},
   "outputs": [],
   "source": [
    "# Get temperature and salinity dataset:\n",
    "files = sorted(glob.glob(base_data + 'PAC12_75_cpl/PAC12_75_cpl_exp02/*/croco_out_mon.nc'))\n",
    "files = [file for file in files if '2014' not in file]\n",
    "data = xr.open_mfdataset(files, concat_dim=\"time_counter\", combine=\"nested\",data_vars='minimal', coords='minimal', compat='override',drop_variables=['omega','u_sq','v_sq','salt_sq','AKv'],parallel=True,chunks={'time_counter':1}).rename({'time_counter':'time'})     "
   ]
  },
  {
   "cell_type": "code",
   "execution_count": null,
   "id": "8",
   "metadata": {},
   "outputs": [],
   "source": [
    "temp = data.temp.isel(s_rho=-1)\n",
    "salt = data.salt.isel(s_rho=-1)\n",
    "rho0 = 1025.\n",
    "alpha = xr.zeros_like(temp).rename('alpha')\n",
    "for ti in range(len(temp[:,0,0])):\n",
    "    print(ti)\n",
    "    alphat, beta = toolsF.alfabeta(temp.isel(time=ti).values,salt.isel(time=ti).values,rho0)\n",
    "    alpha[ti,:,:] = alphat"
   ]
  },
  {
   "cell_type": "code",
   "execution_count": null,
   "id": "9",
   "metadata": {},
   "outputs": [],
   "source": [
    "alpha.mean('time').mean('x_rho').mean('y_rho').values"
   ]
  },
  {
   "cell_type": "markdown",
   "id": "10",
   "metadata": {
    "tags": []
   },
   "source": [
    "# Test Lisa's fortran-to-python code:"
   ]
  },
  {
   "cell_type": "code",
   "execution_count": null,
   "id": "11",
   "metadata": {},
   "outputs": [],
   "source": [
    "data_day = xr.open_dataset(base_data + 'PAC12_75_cpl/PAC12_75_cpl_exp05/20150201_20150228/croco_out_day.nc').rename({'time_counter':'time'})\n",
    "data_mon = xr.open_dataset(base_data + 'PAC12_75_cpl/PAC12_75_cpl_exp05/20150201_20150228/croco_out_mon.nc').rename({'time_counter':'time'})\n",
    "data_dayTIW = xr.open_dataset(base_data + 'PAC12_75_cpl/PAC12_75_cpl_exp05/20150201_20150228/croco_out_day_TIW.nc').rename({'time_counter':'time'})\n",
    "data_grd = xr.open_dataset(base_data + 'PAC12_75_cpl/PAC12_75_cpl_exp05/20150201_20150228/croco_out_grd.nc')\n",
    "data_dayTIW = ptools.create_coords_CROCO_TIW(data_dayTIW,data_grd)\n",
    "rho0 = 1025.\n",
    "filt_width = 6."
   ]
  },
  {
   "cell_type": "code",
   "execution_count": null,
   "id": "12",
   "metadata": {},
   "outputs": [],
   "source": [
    "# Determine first index values:\n",
    "L1, M1 = 60,147\n",
    "lon1 = data_day.nav_lon_rho.isel(x_rho=L1,y_rho=M1).values\n",
    "lat1 = data_day.nav_lat_rho.isel(x_rho=L1,y_rho=M1).values\n",
    "lonTIW1 = data_dayTIW.nav_lon_rho.isel(x_rho=0,y_rho=0).values\n",
    "latTIW1 = data_dayTIW.nav_lat_rho.isel(x_rho=0,y_rho=0).values\n",
    "print('Longitudes: %3.2f %3.2f, Latitudes: %3.2f %3.2f' % (lon1,lonTIW1,lat1,latTIW1))"
   ]
  },
  {
   "cell_type": "code",
   "execution_count": null,
   "id": "13",
   "metadata": {},
   "outputs": [],
   "source": [
    "# Calculate/subset grid quantities:\n",
    "L1, M1, S1 = 60, 147, 39\n",
    "[Mm,Lm] = np.shape(data_dayTIW.temp.isel(time=0).isel(s_rho=0))\n",
    "\n",
    "hc = data_grd.hc\n",
    "Cs_r = data_grd.Cs_r\n",
    "Cs_w = data_grd.Cs_w\n",
    "\n",
    "pm = data_dayTIW.pm\n",
    "pn = data_dayTIW.pn\n",
    "h = data_dayTIW.h"
   ]
  },
  {
   "cell_type": "code",
   "execution_count": null,
   "id": "14",
   "metadata": {},
   "outputs": [],
   "source": [
    "def TIWt(ds):\n",
    "    \"\"\"\n",
    "    Single time transpose on numpy array for use with Fortran code\n",
    "    \"\"\" \n",
    "    return(np.transpose(ds, (2,1,0)))"
   ]
  },
  {
   "cell_type": "code",
   "execution_count": null,
   "id": "15",
   "metadata": {},
   "outputs": [],
   "source": [
    "zeta = data_day.zeta.isel(x_rho=slice(L1,L1+Lm),y_rho=slice(M1,M1+Mm)).isel(time=0)\n",
    "\n",
    "z_r = xr.zeros_like(data_mon.z_rho.isel(x_rho=slice(L1,L1+Lm),y_rho=slice(M1,M1+Mm)).isel(s_rho=slice(S1,None)).isel(time=0))\n",
    "z_w = xr.zeros_like(data_dayTIW.omega.isel(time=0))\n",
    "\n",
    "z_rt, z_wt = toolsF.zlevs(h.T,zeta.T,hc,Cs_r,Cs_w)\n",
    "z_r.values = TIWt(z_rt[:,:,S1:])\n",
    "z_w.values = TIWt(z_wt[:,:,S1:])"
   ]
  },
  {
   "cell_type": "code",
   "execution_count": null,
   "id": "16",
   "metadata": {},
   "outputs": [],
   "source": [
    "# Plus 1 time for vertical velocity:\n",
    "zetap1 = data_day.zeta.isel(x_rho=slice(L1,L1+Lm),y_rho=slice(M1,M1+Mm)).isel(time=1)\n",
    "\n",
    "z_rp1 = xr.zeros_like(data_mon.z_rho.isel(x_rho=slice(L1,L1+Lm),y_rho=slice(M1,M1+Mm)).isel(s_rho=slice(S1,None)).isel(time=0))\n",
    "z_wp1 = xr.zeros_like(data_dayTIW.omega.isel(time=0))\n",
    "\n",
    "z_rtp1, z_wtp1 = toolsF.zlevs(h.T,zetap1.T,hc,Cs_r,Cs_w)\n",
    "z_rp1.values = TIWt(z_rtp1[:,:,S1:])\n",
    "z_wp1.values = TIWt(z_wtp1[:,:,S1:])"
   ]
  },
  {
   "cell_type": "code",
   "execution_count": null,
   "id": "17",
   "metadata": {},
   "outputs": [],
   "source": [
    "# Setup grid object:\n",
    "grid = Grid(data_dayTIW,coords={\"x\":{\"center\":\"x_rho\",\"outer\":\"x_u\"},\n",
    "                                    \"y\":{\"center\":\"y_rho\",\"outer\":\"y_v\"},\n",
    "                                    \"s\":{\"center\":\"s_rho\",\"outer\":\"s_w\"}},periodic=False)"
   ]
  },
  {
   "cell_type": "code",
   "execution_count": null,
   "id": "18",
   "metadata": {},
   "outputs": [],
   "source": [
    "# Omega and vertical velocity calculations:\n",
    "u = data_dayTIW.u.isel(x_u=slice(1,-1)).isel(time=0)\n",
    "v = data_dayTIW.v.isel(y_v=slice(1,-1)).isel(time=0)\n",
    "omega = toolsF.get_omega(TIWt(u.values),TIWt(v.values),TIWt(z_r.values),TIWt(z_w.values),pm.T,pn.T)\n",
    "\n",
    "omega_pre = data_dayTIW.omega.isel(time=0)\n",
    "omega_pos = xr.zeros_like(omega_pre)\n",
    "omega_pos.values = np.transpose(omega, (2, 1, 0))"
   ]
  },
  {
   "cell_type": "code",
   "execution_count": null,
   "id": "19",
   "metadata": {},
   "outputs": [],
   "source": [
    "# Plot:\n",
    "fig,axes = plt.subplots(nrows=3,ncols=2,figsize=(20,15))\n",
    "omega_pre.isel(s_w=20).plot(ax=axes[0][0],vmin=-.5e-3,vmax=.5e-3,cmap='RdBu_r')\n",
    "axes[0][0].set_title('Pre-calculated')\n",
    "omega_pos.isel(s_w=20).plot(ax=axes[1][0],vmin=-.5e-3,vmax=.5e-3,cmap='RdBu_r')\n",
    "axes[1][0].set_title('Post-calculated')\n",
    "(omega_pos-omega_pre).isel(s_w=20).plot(ax=axes[0][1],vmin=-.5e-3,vmax=.5e-3,cmap='RdBu_r')\n",
    "axes[0][1].set_title('Difference')"
   ]
  },
  {
   "cell_type": "code",
   "execution_count": null,
   "id": "20",
   "metadata": {},
   "outputs": [],
   "source": [
    "# # w from get_wvlcty (I think this could be wrong because of the integral from bottom up):\n",
    "# w = toolsF.get_wvlcty(TIWt(u.values),TIWt(v.values),TIWt(z_r.values),TIWt(z_w.values),pm.T,pn.T)\n",
    "# w_pos = xr.zeros_like(data_dayTIW.temp.isel(time=0))\n",
    "# w_pos.values = np.transpose(w, (2, 1, 0))\n",
    "\n",
    "# reconstructing w from omega.\n",
    "# From https://www.myroms.org/wiki/Terrain-Following_Coordinate_Transformation:\n",
    "# w = dz/dt + u dz/dx + v dz/dy + omega\n",
    "# (Note: at the above link, the last term is omega*Hz, but the omega in the outputs is already multiplied by the Hz factor, see https://www.myroms.org/forum/viewtopic.php?t=2139\n",
    "\n",
    "w_u_cor = u.rename({'y_u':'y_rho'})*grid.diff(z_r,'x')*grid.interp(pm,'x')\n",
    "w_v_cor = v.rename({'x_v':'x_rho'})*grid.diff(z_r,'y')*grid.interp(pn,'y')\n",
    "w_t_cor = (z_rp1-z_r)/86400."
   ]
  },
  {
   "cell_type": "code",
   "execution_count": null,
   "id": "21",
   "metadata": {},
   "outputs": [],
   "source": [
    "fig,axes = plt.subplots(nrows=3,ncols=2,figsize=(20,15))\n",
    "\n",
    "index = 10\n",
    "\n",
    "omega_pre.isel(s_w=index).plot(ax=axes[0][0],vmin=-.5e-3,vmax=.5e-3,cmap='RdBu_r')\n",
    "axes[0][0].set_title('Omega [ms-1]')\n",
    "\n",
    "w_u_cor.isel(s_rho=index).plot(ax=axes[1][0],vmin=-.5e-3,vmax=.5e-3,cmap='RdBu_r')\n",
    "axes[1][0].set_title('u-correction to omega')\n",
    "w_v_cor.isel(s_rho=index).plot(ax=axes[0][1],vmin=-.5e-3,vmax=.5e-3,cmap='RdBu_r')\n",
    "axes[0][1].set_title('v-correction to omega')\n",
    "w_t_cor.isel(s_rho=index).plot(ax=axes[1][1],vmin=-.5e-3,vmax=.5e-3,cmap='RdBu_r')\n",
    "axes[1][1].set_title('z_t-correction to omega')\n",
    "z_r.isel(s_rho=index).plot(ax=axes[2][0])\n",
    "axes[2][0].set_title('rho Depth at this level')"
   ]
  },
  {
   "cell_type": "code",
   "execution_count": null,
   "id": "22",
   "metadata": {},
   "outputs": [],
   "source": [
    "# Buoyancy calculation:\n",
    "temp = data_dayTIW.temp.isel(time=0)\n",
    "salt = data_dayTIW.salt.isel(time=0)\n",
    "b = xr.zeros_like(temp)\n",
    "\n",
    "b.values = TIWt(toolsF.get_buoy(TIWt(temp.values),TIWt(salt.values),TIWt(z_r.values),TIWt(z_w.values),rho0))"
   ]
  },
  {
   "cell_type": "code",
   "execution_count": null,
   "id": "23",
   "metadata": {},
   "outputs": [],
   "source": [
    "# Grid object:\n",
    "grid = Grid(data_dayTIW,coords={\"x\":{\"center\":\"x_rho\",\"outer\":\"x_u\"},\n",
    "                         \"y\":{\"center\":\"y_rho\",\"outer\":\"y_v\"},\n",
    "                         \"s\":{\"center\":\"s_rho\",\"outer\":\"s_w\"}},periodic=False) #NOTE: This is different to parent grid becuase _u and _v are outer not inner.\n",
    "\n",
    "# Filtering:\n",
    "u = data_dayTIW.u.isel(time=0)\n",
    "v = data_dayTIW.v.isel(time=0)\n",
    "omega = data_dayTIW.omega.isel(time=0)\n",
    "\n",
    "u_lp = ptools.zlp_filt(u,filt_width)\n",
    "u_hp = u - u_lp\n",
    "\n",
    "v_lp = ptools.zlp_filt(v,filt_width)\n",
    "v_hp = v - v_lp\n",
    "\n",
    "omega_lp = ptools.zlp_filt(omega,filt_width)\n",
    "omega_hp = omega - omega_lp\n",
    "\n",
    "b_lp = ptools.zlp_filt(b,filt_width)\n",
    "b_hp = b - b_lp"
   ]
  },
  {
   "cell_type": "code",
   "execution_count": null,
   "id": "24",
   "metadata": {},
   "outputs": [],
   "source": [
    "# Do the calculations:\n",
    "uu = grid.interp(u_hp*u_hp,'x').rename({'y_u':'y_rho'})\n",
    "vv = grid.interp(v_hp*v_hp,'y').rename({'x_v':'x_rho'})\n",
    "uv = grid.interp(u_hp,'x').rename({'y_u':'y_rho'})*grid.interp(v_hp,'y').rename({'x_v':'x_rho'})\n",
    "uw = grid.interp(u_hp,'x').rename({'y_u':'y_rho'})*grid.interp(omega_hp,'s').rename({'x_w':'x_rho','y_w':'y_rho'})\n",
    "vw = grid.interp(v_hp,'y').rename({'x_v':'x_rho'})*grid.interp(omega_hp,'s').rename({'x_w':'x_rho','y_w':'y_rho'})\n",
    "wb = b_hp*grid.interp(omega_hp,'s').rename({'x_w':'x_rho','y_w':'y_rho'})"
   ]
  },
  {
   "cell_type": "code",
   "execution_count": null,
   "id": "25",
   "metadata": {},
   "outputs": [],
   "source": [
    "Ux = grid.diff(u_lp,'x').rename({'y_u':'y_rho'})*data_dayTIW.pm\n",
    "Vy = grid.diff(v_lp,'y').rename({'x_v':'x_rho'})*data_dayTIW.pn"
   ]
  },
  {
   "cell_type": "code",
   "execution_count": null,
   "id": "26",
   "metadata": {},
   "outputs": [],
   "source": [
    "Uy = grid.interp(grid.interp(grid.diff(u_lp.rename({'y_u':'y_rho'}),'y'),'x'),'y')*data_dayTIW.pn\n",
    "Vx = grid.interp(grid.interp(grid.diff(v_lp.rename({'x_v':'x_rho'}),'x'),'x'),'y')*data_dayTIW.pm"
   ]
  },
  {
   "cell_type": "code",
   "execution_count": null,
   "id": "27",
   "metadata": {},
   "outputs": [],
   "source": [
    "Uz = grid.interp(grid.interp(grid.diff(u_lp,'s').rename({'y_u':'y_rho'}),'x')/grid.diff(z_r,'s'),'s')\n",
    "Vz = grid.interp(grid.interp(grid.diff(v_lp,'s').rename({'x_v':'x_rho'}),'y')/grid.diff(z_r,'s'),'s')"
   ]
  },
  {
   "cell_type": "code",
   "execution_count": null,
   "id": "28",
   "metadata": {},
   "outputs": [],
   "source": [
    "# Do some plotting:\n",
    "fig, axes = plt.subplots(figsize=(20,20),nrows=4,ncols=2)\n",
    "\n",
    "axs = axes.reshape(-1)\n",
    "[(uu*Ux).isel(s_rho=25).plot(ax=axs[0],vmin=-1.e-7,vmax=1.e-7,cmap='RdBu_r')\n",
    "axs[0].set_title('uu Ux')\n",
    "(uv*Uy).isel(s_rho=25).plot(ax=axs[1],vmin=-1.e-7,vmax=1.e-7,cmap='RdBu_r')\n",
    "axs[1].set_title('uv Uy')\n",
    "(uv*Vx).isel(s_rho=25).plot(ax=axs[2],vmin=-1.e-7,vmax=1.e-7,cmap='RdBu_r')\n",
    "axs[2].set_title('uv Vx')\n",
    "(vv*Vy).isel(s_rho=25).plot(ax=axs[3],vmin=-1.e-7,vmax=1.e-7,cmap='RdBu_r')\n",
    "axs[3].set_title('vv Vy')\n",
    "(uw*Uz).isel(s_rho=25).plot(ax=axs[4],vmin=-1.e-7,vmax=1.e-7,cmap='RdBu_r')\n",
    "axs[4].set_title('uw Uz')\n",
    "(vw*Vz).isel(s_rho=25).plot(ax=axs[5],vmin=-1.e-7,vmax=1.e-7,cmap='RdBu_r')\n",
    "axs[5].set_title('vu Vz')\n",
    "(wb).isel(s_rho=25).plot(ax=axs[6],vmin=-1.e-7,vmax=1.e-7,cmap='RdBu_r')\n",
    "axs[6].set_title('wb')"
   ]
  },
  {
   "cell_type": "markdown",
   "id": "29",
   "metadata": {},
   "source": [
    "# Test high-pass filter processing scripts"
   ]
  },
  {
   "cell_type": "code",
   "execution_count": null,
   "id": "30",
   "metadata": {},
   "outputs": [],
   "source": [
    "# Testing 3d EKE budget high-pass filter processing (calc_zhp_3d_variables):\n",
    "file_in_day = base_data + 'PAC12_75_cpl/PAC12_75_cpl_exp13/20150101_20150131/croco_out_day.nc'\n",
    "filt_width = 12.\n",
    "\n",
    "ds = ptools.calc_zhp_std_variables(file_in_day,file_in_mon,file_out,filt_width)"
   ]
  },
  {
   "cell_type": "code",
   "execution_count": null,
   "id": "31",
   "metadata": {},
   "outputs": [],
   "source": [
    "# Reload (if needed):\n",
    "import importlib\n",
    "importlib.reload(ptools)"
   ]
  },
  {
   "cell_type": "code",
   "execution_count": null,
   "id": "32",
   "metadata": {},
   "outputs": [],
   "source": [
    "# Testing high-pass filter stuff:\n",
    "base_spec = base_data + 'PAC12_75_cpl/PAC12_75_cpl_exp05/20150101_20150131/'\n",
    "file_in_day = base_spec + 'croco_out_day.nc'\n",
    "file_in_dayTIW = base_spec + 'croco_out_day_TIW.nc'\n",
    "file_in_mon = base_spec + 'croco_out_mon.nc'\n",
    "file_in_grd = base_spec + 'croco_out_grd.nc'\n",
    "file_out = base_spec + 'croco_out_mon_TIWhp.nc'\n",
    "filt_width = 6.\n",
    "\n",
    "ptools.calc_zhp_3d_variables(file_in_dayTIW,file_in_day,file_in_mon,file_in_grd,file_out,filt_width)"
   ]
  },
  {
   "cell_type": "markdown",
   "id": "33",
   "metadata": {},
   "source": [
    "# Longitude filter testing:"
   ]
  },
  {
   "cell_type": "code",
   "execution_count": null,
   "id": "34",
   "metadata": {
    "tags": []
   },
   "outputs": [],
   "source": [
    "import numpy as np\n",
    "import matplotlib.pyplot as plt\n",
    "import matplotlib\n",
    "import xarray as xr\n",
    "import scipy\n",
    "from scipy.optimize import newton\n",
    "from math import sin, cos, sqrt, pi"
   ]
  },
  {
   "cell_type": "code",
   "execution_count": null,
   "id": "35",
   "metadata": {
    "tags": []
   },
   "outputs": [],
   "source": [
    "fs = 4.\n",
    "xe = 50.\n",
    "xc = 25.\n",
    "gsig = 6.\n",
    "wbox = 12.\n",
    "\n",
    "x = np.arange(0.,xe+1/fs,1/fs)#linspace(0.,24.,100)\n",
    "gaus = np.exp(-(x-xc)**2./2/gsig**2.)\n",
    "box = np.zeros_like(gaus)\n",
    "box[np.logical_and(x>(xc-wbox/2),x<(xc+wbox/2))] = 1.\n",
    "\n",
    "fgaus = np.fft.fft(gaus)\n",
    "fbox = np.fft.fft(box)\n",
    "freq = np.fft.fftfreq(gaus.shape[-1],d=1/fs)\n",
    "\n",
    "\n",
    "f, Pxx_gaus = scipy.signal.welch(gaus, fs, 'flattop', 1024, scaling='spectrum')\n",
    "f, Pxx_box = scipy.signal.welch(box, fs, 'flattop', 1024, scaling='spectrum')\n",
    "\n",
    "fig, axes = plt.subplots(nrows=1,ncols=2,figsize=(10,5))\n",
    "axes[0].plot(x,gaus,label='Gaussian')\n",
    "axes[0].plot(x,box,label='Moving average')\n",
    "axes[0].set_xlabel('x')\n",
    "axes[0].set_ylabel('Filter')\n",
    "axes[0].legend()\n",
    "\n",
    "#axes[1].plot(freq,np.abs(fgaus)**2.)\n",
    "#axes[1].plot(freq,np.abs(fbox)**2.)\n",
    "axes[1].plot(f,Pxx_gaus)\n",
    "axes[1].plot(f,Pxx_box)\n",
    "axes[1].set_xlim([-0.,0.3])\n",
    "#plt.plot(x,np.sin(x*np.pi/12))"
   ]
  },
  {
   "cell_type": "code",
   "execution_count": null,
   "id": "36",
   "metadata": {},
   "outputs": [],
   "source": [
    "# Compute cut-off frequency of a gaussian filter:\n",
    "dx = 111./4.\n",
    "sig = 24\n",
    "c = 2\n",
    "k = np.sqrt(np.log(c))/(2*np.pi*sig*dx)\n",
    "print('A 6-degree, 24-point standard deviation guassian filter has a -3dB (half power) cutoff frequency of 1/%4.0f cycles/km' % (1/k))\n",
    "\n",
    "# Compute cut-off frequency of a moving average filter:\n",
    "def get_sma_cutoff(N, **kwargs):\n",
    "    func = lambda w: sin(N*w/2) - N/sqrt(2) * sin(w/2)  # |H(e^jω)| = √2/2\n",
    "    deriv = lambda w: cos(N*w/2) * N/2 - N/sqrt(2) * cos(w/2) / 2  # dfunc/dx\n",
    "    omega_0 = np.pi/N  # Starting condition: halfway the first period of sin(Nω/2)\n",
    "    return newton(func, omega_0, deriv, **kwargs)\n",
    "\n",
    "# Simple moving average design parameters\n",
    "f_s = 1.\n",
    "N = 48.\n",
    "\n",
    "# Find the cut-off frequency of the SMA\n",
    "w_c = get_sma_cutoff(N)\n",
    "f_c = w_c * f_s / dx\n",
    "\n",
    "print('A 12-degree, 48-point moving average filter has a -3dB (half power) cutoff frequency of 1/%4.0f cycles/km' % (2*np.pi/f_c))"
   ]
  },
  {
   "cell_type": "code",
   "execution_count": null,
   "id": "37",
   "metadata": {
    "tags": []
   },
   "outputs": [],
   "source": [
    "#x = data['CROCO-WRF NoTFB-E1']['wrf_day'].SST.x\n",
    "#gausy = 5.*np.exp(-.5*(x-240.)**2./(24.*1./4.)**2.)\n",
    "ds = xr.open_dataset('/g/data/e14/rmh561/croco/archive/PAC12_75_cpl/PAC12_75_cpl_exp02/20140101_20140131/wrf3d_1D_2014-01-01-2014-01-31.nc_20140101_20140131.nc')\n",
    "c = xr.open_dataset('/g/data/e14/rmh561/croco/data/OASIS_FILES/PAC12_75_cpl/smooth_mask_tanh.nc')\n",
    "c = c.assign_coords({\"y\":ds.nav_lon.isel(y=0).values,\"x\":ds.nav_lat.isel(x=0).values})"
   ]
  },
  {
   "cell_type": "code",
   "execution_count": null,
   "id": "38",
   "metadata": {
    "tags": []
   },
   "outputs": [],
   "source": [
    "c.SMOOTHMASK.isel(y=200).plot()\n",
    "plt.gca().set_xlim([6.5,12.])"
   ]
  },
  {
   "cell_type": "code",
   "execution_count": null,
   "id": "39",
   "metadata": {
    "tags": []
   },
   "outputs": [],
   "source": [
    "x = np.linspace(-20,20,200)\n",
    "plt.plot(x,np.tanh(-(abs(x)-9)/1.5))\n",
    "#plt.gca().set_xlim([6.5,12.])"
   ]
  },
  {
   "cell_type": "markdown",
   "id": "40",
   "metadata": {
    "tags": []
   },
   "source": [
    "# Testing Gaussian rather than box-car filter:"
   ]
  },
  {
   "cell_type": "code",
   "execution_count": null,
   "id": "41",
   "metadata": {},
   "outputs": [],
   "source": [
    "file_in = base_data + 'PAC12_75_cpl/PAC12_75_cpl_exp13/20150101_20150131/croco_out_day.nc'\n",
    "file_out = 'test.nc'\n",
    "filt_width = 12. # Box-car filter width in degrees\n",
    "gauss_width = 6. # Gaussian filter standard deviation in degrees\n",
    "cutratio = 0.1   # Minimum amplitude of gaussian filter to keep.\n",
    "\n",
    "data = xr.open_dataset(file_in,chunks={'time_counter':1}).rename({'time_counter':'time'})\n",
    "data = ptools.create_coords_CROCO(data)\n",
    "\n",
    "SST = data.temp_surf.isel(time=0)"
   ]
  },
  {
   "cell_type": "code",
   "execution_count": null,
   "id": "42",
   "metadata": {},
   "outputs": [],
   "source": [
    "SST_boxcar = ptools.zlp_filt(SST,filt_width,typ='box')\n",
    "SST_gauss = ptools.zlp_filt(SST,gauss_width,typ='gau',cut=0.1)"
   ]
  },
  {
   "cell_type": "code",
   "execution_count": null,
   "id": "43",
   "metadata": {},
   "outputs": [],
   "source": [
    "var = SST\n",
    "width = gauss_width\n",
    "cut = cutratio\n",
    "#def zlp_filt_gauss(var,width,cut):\n",
    "    # Calculate zonal filtered version of a variable\n",
    "\n",
    "dims = var.dims\n",
    "inds = [index for index,item in enumerate(dims) if item.startswith('x')]\n",
    "if (len(inds) != 1):\n",
    "    raise RuntimeError(\"Error in zhp_filt: less than or greater than 1 zonal dimension found\")\n",
    "else:\n",
    "    x = dims[inds[0]]\n",
    "\n",
    "dx = (var[x][1]-var[x][0]).values\n",
    "\n",
    "sigx = int(width/dx)\n",
    "nn = int(3*2*sigx+1)\n",
    "\n",
    "xx = np.arange(0.,nn)\n",
    "dd = np.sqrt(((xx-int(nn/2))**2)/sigx**2)\n",
    "ww = 1./(np.sqrt(np.pi)*sigx)*np.exp(-dd**2)\n",
    "keepww = np.argwhere((ww.ravel() >= max(ww.ravel())*cutratio)); nnok=len(keepww)\n",
    "ww = ww.ravel()[keepww.astype('int')]\n",
    "ww = ww/ww.sum()\n",
    "\n",
    "weight = xr.DataArray(ww.ravel(), dims=['window'])\n",
    "\n",
    "SST_gauss = var.rolling({x:nnok},center=True).construct('window').dot(weight)\n",
    "SST_gauss"
   ]
  },
  {
   "cell_type": "code",
   "execution_count": null,
   "id": "44",
   "metadata": {},
   "outputs": [],
   "source": [
    "plt.figure(figsize=(20,10))\n",
    "plt.subplot(2,2,1)\n",
    "SST.plot(vmin=22.,vmax=28.,cmap='RdBu_r')\n",
    "plt.gca().set_ylim([-10.,15.])\n",
    "plt.title('Raw')\n",
    "plt.subplot(2,2,2)\n",
    "SST_boxcar.plot(vmin=22.,vmax=28.,cmap='RdBu_r')\n",
    "plt.gca().set_ylim([-10.,15.])\n",
    "plt.title('Box-car 12-degree filter')\n",
    "plt.plot([200.,220.,220.,220.+filt_width,220.+filt_width,260.],[0.,0.,5.,5.,0.,0.],'-k')\n",
    "plt.subplot(2,2,3)\n",
    "SST_gauss.plot(vmin=22.,vmax=28.,cmap='RdBu_r')\n",
    "plt.gca().set_ylim([-10.,15.])\n",
    "plt.title('Gaussian 6-degree filter')\n",
    "#x = 220.+xx*dx\n",
    "#x = x.ravel()[keepww.astype('int')]\n",
    "#plt.plot(x,ww*1000.,'-k')\n",
    "plt.subplot(2,2,4)\n",
    "(SST_boxcar-SST_gauss).plot(vmin=-0.1,vmax=0.1,cmap='RdBu_r')\n",
    "plt.gca().set_ylim([-10.,15.])\n",
    "plt.title('Difference between box-car and gaussian filter')"
   ]
  },
  {
   "cell_type": "markdown",
   "id": "45",
   "metadata": {},
   "source": [
    "# Test WRF vs. CROCO filtering:"
   ]
  },
  {
   "cell_type": "code",
   "execution_count": null,
   "id": "46",
   "metadata": {},
   "outputs": [],
   "source": [
    "file_in_croco = base_data + 'PAC12_75_cpl/PAC12_75_cpl_exp02/20150101_20150131/croco_out_day.nc'\n",
    "file_in_wrf = base_data + 'PAC12_75_cpl/PAC12_75_cpl_exp02/20150101_20150131/wrf3d_1D_2015-01-01-2015-01-31.nc_20150101_20150131.nc'\n",
    "gauss_width = 6. # Gaussian filter standard deviation in degrees\n",
    "\n",
    "# CROCO SST:\n",
    "data = xr.open_dataset(file_in_croco,chunks={'time_counter':1}).rename({'time_counter':'time'})\n",
    "data = ptools.create_coords_CROCO(data)\n",
    "\n",
    "SST_croco = data.temp_surf.isel(time=0)\n",
    "\n",
    "# WRF SST:\n",
    "data_wrf = xr.open_dataset(file_in_wrf,chunks={'time_counter':1}).rename({'time_counter':'time'})\n",
    "data_wrf = ptools.create_coords_WRF(data_wrf)\n",
    "\n",
    "SST_wrf = data_wrf.SST.isel(time=0)-273.15"
   ]
  },
  {
   "cell_type": "code",
   "execution_count": null,
   "id": "47",
   "metadata": {},
   "outputs": [],
   "source": [
    "SST_croco_lp = ptools.zlp_filt(SST_croco,gauss_width)\n",
    "SST_croco_hp = SST_croco - SST_croco_lp\n",
    "SST_wrf_lp = ptools.zlp_filt(SST_wrf,gauss_width)\n",
    "SST_wrf_hp = SST_wrf - SST_wrf_lp"
   ]
  },
  {
   "cell_type": "code",
   "execution_count": null,
   "id": "48",
   "metadata": {},
   "outputs": [],
   "source": [
    "plt.figure(figsize=(20,10))\n",
    "plt.subplot(2,2,1)\n",
    "SST_croco_lp.plot(vmin=22.,vmax=28.,cmap='RdBu_r')\n",
    "plt.gca().set_ylim([-10.,15.])\n",
    "plt.title('CROCO LP')\n",
    "plt.subplot(2,2,2)\n",
    "SST_wrf_lp.plot(vmin=22.,vmax=28.,cmap='RdBu_r')\n",
    "plt.gca().set_ylim([-10.,15.])\n",
    "plt.title('WRF LP')\n",
    "\n",
    "plt.subplot(2,2,3)\n",
    "SST_croco_hp.plot(vmin=-1.,vmax=1.,cmap='RdBu_r')\n",
    "plt.gca().set_ylim([-10.,15.])\n",
    "plt.title('CROCO HP')\n",
    "plt.subplot(2,2,4)\n",
    "SST_wrf_hp.plot(vmin=-1.,vmax=1.,cmap='RdBu_r')\n",
    "plt.gca().set_ylim([-10.,15.])\n",
    "plt.title('WRF HP')"
   ]
  },
  {
   "cell_type": "markdown",
   "id": "49",
   "metadata": {},
   "source": [
    "# Test V*SST heat flux:\n"
   ]
  },
  {
   "cell_type": "code",
   "execution_count": null,
   "id": "50",
   "metadata": {},
   "outputs": [],
   "source": [
    "# Testing Gaussian rather than box-car filter:\n",
    "file_in = base_data + 'PAC12_75_cpl/PAC12_75_cpl_exp13/20150101_20150131/croco_out_day.nc'\n",
    "\n",
    "data = xr.open_dataset(file_in,chunks={'time_counter':1}).rename({'time_counter':'time'})\n",
    "data = ptools.create_coords_CROCO(data)\n",
    "\n",
    "SST = data.temp_surf.isel(time=0)\n",
    "V = data.v_surf.isel(time=0)\n",
    "U = data.u_surf.isel(time=0)"
   ]
  },
  {
   "cell_type": "code",
   "execution_count": null,
   "id": "51",
   "metadata": {},
   "outputs": [],
   "source": [
    "SST_hp = SST - ptools.zlp_filt(SST,6.)\n",
    "V_hp = V - ptools.zlp_filt(V,6.)\n",
    "U_hp = U - ptools.zlp_filt(U,6.)"
   ]
  },
  {
   "cell_type": "code",
   "execution_count": null,
   "id": "52",
   "metadata": {},
   "outputs": [],
   "source": [
    "grid = Grid(data,coords={\"y\":{\"center\":\"y_rho\",\"inner\":\"y_v\"},\"x\":{\"center\":\"x_rho\",\"inner\":\"x_u\"}},periodic=False)"
   ]
  },
  {
   "cell_type": "code",
   "execution_count": null,
   "id": "53",
   "metadata": {},
   "outputs": [],
   "source": [
    "VSST = grid.interp(V_hp,'y').rename({'x_v':'x_rho'})*SST_hp\n",
    "USST = grid.interp(U_hp,'x').rename({'y_u':'y_rho'})*SST_hp"
   ]
  },
  {
   "cell_type": "code",
   "execution_count": null,
   "id": "54",
   "metadata": {},
   "outputs": [],
   "source": [
    "VSST.plot()"
   ]
  },
  {
   "cell_type": "markdown",
   "id": "55",
   "metadata": {},
   "source": [
    "# Test pyCOARE-master"
   ]
  },
  {
   "cell_type": "code",
   "execution_count": null,
   "id": "56",
   "metadata": {
    "tags": []
   },
   "outputs": [],
   "source": [
    "# Load some data from an example month:\n",
    "croco_day = xr.open_dataset(base_data + 'PAC12_75_cpl/PAC12_75_cpl_exp09/20150201_20150228/croco_out_day.nc').rename({'time_counter':'time'})\n",
    "croco_grd = xr.open_dataset(base_data + 'PAC12_75_cpl/PAC12_75_cpl_exp09/20150201_20150228/croco_out_grd.nc')\n",
    "croco_dayTIW = ptools.create_coords_CROCO(croco_day)\n",
    "wrf_day = xr.open_dataset(base_data + 'PAC12_75_cpl/PAC12_75_cpl_exp09/20150201_20150228/wrf3d_1D_2015-02-01-2015-02-28.nc_20150201_20150228.nc').rename({'time_counter':'time'})\n",
    "wrf_hr = xr.open_dataset(base_data + 'PAC12_75_cpl/PAC12_75_cpl_exp09/20150201_20150228/wrf3d_1H_2015-02-01-2015-02-28.nc_20150201_20150228.nc').rename({'time_counter':'time'})\n",
    "mask = wrf_day.SST.isel(time=0)>100."
   ]
  },
  {
   "cell_type": "code",
   "execution_count": null,
   "id": "57",
   "metadata": {
    "tags": []
   },
   "outputs": [],
   "source": [
    "wrf_day"
   ]
  },
  {
   "cell_type": "code",
   "execution_count": null,
   "id": "58",
   "metadata": {
    "tags": []
   },
   "outputs": [],
   "source": [
    "def coare_tflux(obj,SST,skintemp=True):\n",
    "    \"\"\" A wrapper around coare35vn that takes a wrf daily output file and an SST input\n",
    "        and returns the turbulent heat fluxes calculated using the coare35vn routine \n",
    "        Note: \n",
    "        if skintemp=True then SST should be skin temp (this is more accurate)\n",
    "        if skintemp=False then SST is not skin temp\n",
    "        \"\"\"\n",
    "    \n",
    "    # Input unit conversions and shapes:\n",
    "    K_to_C = -273.15\n",
    "    u = obj.WSPD_REL\n",
    "    sz = u.shape\n",
    "    if len(sz)==3:\n",
    "        lat = np.transpose(np.repeat(obj.nav_lat.values[:,:,np.newaxis],sz[0],axis=2),(2,0,1))\n",
    "    else:\n",
    "        lat = obj.nav_lat.values\n",
    "    shp = -1\n",
    "    lat = lat.reshape(shp)\n",
    "    u = u.values.reshape(shp)\n",
    "    t = (obj.T_PHYL1+K_to_C).values.reshape(shp)\n",
    "    q = obj.QVL1.values.reshape(shp)\n",
    "    p = (obj.PSFC/100.).values.reshape(shp) # PSFC is in Pa, p is in mbar.\n",
    "    \n",
    "    ts = (SST+K_to_C).values.reshape(shp)\n",
    "    if skintemp:\n",
    "        jcool=0\n",
    "    else:\n",
    "        jcool=1\n",
    "\n",
    "    rh = (meteo.rhcalc(t,p,q)).reshape(shp)\n",
    "    zi = obj.PBLH.values.reshape(shp) # This makes very little difference compared to default, slightly better with it included.\n",
    "    \n",
    "    # These make no difference, remove:\n",
    "    # Rs = obj.GSW.values.reshape(shp)\n",
    "    # Rl = obj.GLW.values.reshape(shp) \n",
    "    # rain = obj.RAIN.values.reshape(shp) # This appears to make no difference. Removed.\n",
    "    \n",
    "    # Call function:\n",
    "    A = coare35vn.coare35vn(u, t, rh, ts, P=p,zu=10.,zt = 10.,zq=10.,lat=lat,jcool=jcool,zi=zi)\n",
    "    \n",
    "    # Outputs:\n",
    "    HFX = xr.zeros_like(obj.HFX)\n",
    "    LH = xr.zeros_like(obj.LH)\n",
    "    HFX.data = A[:,2].reshape(sz)\n",
    "    LH.data = A[:,3].reshape(sz)\n",
    "    \n",
    "    return(HFX,LH)"
   ]
  },
  {
   "cell_type": "code",
   "execution_count": null,
   "id": "59",
   "metadata": {
    "tags": []
   },
   "outputs": [],
   "source": [
    "# Calculate fluxes for a single day using daily output:\n",
    "HFX,LH = coare_tflux(wrf_day.isel(time=0),wrf_day.isel(time=0).TSK)\n",
    "\n",
    "# Mask out land:\n",
    "HFX = HFX.where(mask)\n",
    "LH = LH.where(mask)"
   ]
  },
  {
   "cell_type": "code",
   "execution_count": null,
   "id": "60",
   "metadata": {
    "tags": []
   },
   "outputs": [],
   "source": [
    "# Compare fluxes calculated using daily data:\n",
    "fig,axes = plt.subplots(nrows=3,ncols=2,figsize=(20,15))\n",
    "\n",
    "(HFX).plot(ax=axes[0][0],vmin=-75.,vmax=75.,cmap='RdBu_r')\n",
    "axes[0][0].set_title('Sensible heat flux: pyCOARE using daily data')\n",
    "wrf_day.isel(time=0).HFX.where(mask).plot(ax=axes[1][0],vmin=-75.,vmax=75.,cmap='RdBu_r')\n",
    "axes[1][0].set_title('Sensible heat flux: WRF')\n",
    "(HFX-wrf_day.isel(time=0).HFX.where(mask)).plot(ax=axes[2][0],vmin=-5.,vmax=5.,cmap='RdBu_r')\n",
    "axes[2][0].set_title('Sensible heat flux: Difference')\n",
    "\n",
    "# Error RMSE:\n",
    "print('Sensible Error RMSE = %3.2f Wm$^{-2}$' % (np.sqrt(((HFX-wrf_day.isel(time=0).HFX.where(mask))**2.).mean('x').mean('y'))))\n",
    "\n",
    "(LH).plot(ax=axes[0][1],vmin=-250.,vmax=250.,cmap='RdBu_r')\n",
    "axes[0][1].set_title('Latent heat flux: pyCOARE using hourly data')\n",
    "wrf_day.isel(time=0).LH.where(mask).plot(ax=axes[1][1],vmin=-250.,vmax=250.,cmap='RdBu_r')\n",
    "axes[1][1].set_title('Latent heat flux: WRF')\n",
    "(LH-wrf_day.isel(time=0).LH.where(mask)).plot(ax=axes[2][1],vmin=-40.,vmax=40.,cmap='RdBu_r')\n",
    "axes[2][1].set_title('Latent heat flux: Difference')\n",
    "\n",
    "# Error RMSE:\n",
    "print('Latent Error RMSE = %3.2f Wm$^{-2}$' % (np.sqrt(((LH-wrf_day.isel(time=0).LH.where(mask))**2.).mean('x').mean('y'))))"
   ]
  },
  {
   "cell_type": "code",
   "execution_count": null,
   "id": "61",
   "metadata": {
    "tags": []
   },
   "outputs": [],
   "source": [
    "# Calculate fluxes using the hourly data we have available:\n",
    "test = wrf_hr.isel(time=slice(0,24))\n",
    "test['WSPD_REL'] = np.sqrt((test.U_PHYL1-test.UOCE)*(test.U_PHYL1-test.UOCE) +(test.V_PHYL1-test.VOCE)*(test.V_PHYL1-test.VOCE))\n",
    "\n",
    "# For those variables that I don't have hourly output for, use the daily average instead:\n",
    "test['PSFC'] = xr.zeros_like(test.WSPD_REL)\n",
    "test['PSFC'].data = np.transpose(np.repeat(wrf_day.isel(time=0).PSFC.values[:,:,np.newaxis],24,axis=2),(2,0,1))\n",
    "test['GSW'] = xr.zeros_like(test.WSPD_REL)\n",
    "test['GSW'].data = np.transpose(np.repeat(wrf_day.isel(time=0).GSW.values[:,:,np.newaxis],24,axis=2),(2,0,1))\n",
    "test['GLW'] = xr.zeros_like(test.WSPD_REL)\n",
    "test['GLW'].data = np.transpose(np.repeat(wrf_day.isel(time=0).GLW.values[:,:,np.newaxis],24,axis=2),(2,0,1))\n",
    "test['PBLH'] = xr.zeros_like(test.WSPD_REL)\n",
    "test['PBLH'].data = np.transpose(np.repeat(wrf_day.isel(time=0).PBLH.values[:,:,np.newaxis],24,axis=2),(2,0,1))\n",
    "test['HFX'] = xr.zeros_like(test.WSPD_REL)\n",
    "test['HFX'].data = np.transpose(np.repeat(wrf_day.isel(time=0).HFX.values[:,:,np.newaxis],24,axis=2),(2,0,1))\n",
    "test['LH'] = xr.zeros_like(test.WSPD_REL)\n",
    "test['LH'].data = np.transpose(np.repeat(wrf_day.isel(time=0).LH.values[:,:,np.newaxis],24,axis=2),(2,0,1))\n",
    "\n",
    "# Calculate fluxes for each hour:\n",
    "HFXhr,LHhr = coare(test)\n",
    "\n",
    "# Take the mean across the day:\n",
    "HFXhr = HFXhr.mean('time')\n",
    "LHhr = LHhr.mean('time')"
   ]
  },
  {
   "cell_type": "code",
   "execution_count": null,
   "id": "62",
   "metadata": {
    "tags": []
   },
   "outputs": [],
   "source": [
    "# Compare fluxes calculated using hourly data:\n",
    "fig,axes = plt.subplots(nrows=3,ncols=2,figsize=(20,15))\n",
    "\n",
    "(HFXhr).plot(ax=axes[0][0],vmin=-75.,vmax=75.,cmap='RdBu_r')\n",
    "axes[0][0].set_title('Sensible heat flux: pyCOARE using hourly data')\n",
    "wrf_day.isel(time=0).HFX.plot(ax=axes[1][0],vmin=-75.,vmax=75.,cmap='RdBu_r')\n",
    "axes[1][0].set_title('Sensible heat flux: WRF')\n",
    "(HFXhr-wrf_day.isel(time=0).HFX).plot(ax=axes[2][0],vmin=-5.,vmax=5.,cmap='RdBu_r')\n",
    "axes[2][0].set_title('Sensible heat flux: Difference')\n",
    "\n",
    "# Error RMSE:\n",
    "print('Sensible Error RMSE = %3.2f Wm$^{-2}$' % (np.sqrt(((HFXhr.where(HFXhr>-50.)-wrf_day.isel(time=0).HFX)**2.).mean('x').mean('y'))))\n",
    "\n",
    "(LHhr).plot(ax=axes[0][1],vmin=-250.,vmax=250.,cmap='RdBu_r')\n",
    "axes[0][1].set_title('Latent heat flux: pyCOARE using hourly data')\n",
    "wrf_day.isel(time=0).LH.plot(ax=axes[1][1],vmin=-250.,vmax=250.,cmap='RdBu_r')\n",
    "axes[1][1].set_title('Latent heat flux: WRF')\n",
    "(LHhr-wrf_day.isel(time=0).LH).plot(ax=axes[2][1],vmin=-40.,vmax=40.,cmap='RdBu_r')\n",
    "axes[2][1].set_title('Latent heat flux: Difference')\n",
    "\n",
    "# Error RMSE:\n",
    "print('Latent Error RMSE = %3.2f Wm$^{-2}$' % (np.sqrt(((LHhr.where(LHhr<500.)-wrf_day.isel(time=0).LH)**2.).mean('x').mean('y'))))"
   ]
  },
  {
   "cell_type": "markdown",
   "id": "63",
   "metadata": {},
   "source": [
    "## Test Smoothed and offline Ge and Gm terms:"
   ]
  },
  {
   "cell_type": "code",
   "execution_count": null,
   "id": "64",
   "metadata": {
    "tags": []
   },
   "outputs": [],
   "source": [
    "# Load some data from an example month:\n",
    "croco_mon =base_data + 'PAC12_75_cpl/PAC12_75_cpl_exp09/20150201_20150228/croco_out_mon.nc'\n",
    "wrf_day = base_data + 'PAC12_75_cpl/PAC12_75_cpl_exp09/20150201_20150228/wrf3d_1D_2015-02-01-2015-02-28.nc_20150201_20150228.nc'\n",
    "file_out = 'test.nc'\n",
    "filt_width = 6."
   ]
  },
  {
   "cell_type": "code",
   "execution_count": null,
   "id": "65",
   "metadata": {
    "tags": []
   },
   "outputs": [],
   "source": [
    "ptools.calc_zhp_wrf_variables(wrf_day,croco_mon,file_out,filt_width)"
   ]
  },
  {
   "cell_type": "code",
   "execution_count": null,
   "id": "66",
   "metadata": {
    "tags": []
   },
   "outputs": [],
   "source": [
    "data = xr.open_dataset('test.nc')\n",
    "data"
   ]
  },
  {
   "cell_type": "code",
   "execution_count": null,
   "id": "67",
   "metadata": {
    "tags": []
   },
   "outputs": [],
   "source": [
    "TSK_lp = ptools.zlp_filt(data_day.TSK.isel(time_counter=0),6.)\n",
    "TSK_lp.fillna(273.15)"
   ]
  },
  {
   "cell_type": "code",
   "execution_count": null,
   "id": "68",
   "metadata": {
    "tags": []
   },
   "outputs": [],
   "source": [
    "data_day = xr.open_dataset(wrf_day)\n",
    "var = data_day.GLW-5.67e-8*(data_day.TSK)**4\n",
    "var = var.isel(time_counter=0)\n",
    "(var-ptools.zlp_filt(var,6.)).plot(vmin=-5.,vmax=5.,cmap='RdBu_r')"
   ]
  },
  {
   "cell_type": "code",
   "execution_count": null,
   "id": "69",
   "metadata": {
    "tags": []
   },
   "outputs": [],
   "source": [
    "(data.QofsmtSST_hp-data.QofSST_hp).plot(vmin=-1.,vmax=1.,cmap='RdBu_r')"
   ]
  },
  {
   "cell_type": "code",
   "execution_count": null,
   "id": "70",
   "metadata": {},
   "outputs": [],
   "source": []
  }
 ],
 "metadata": {
  "kernelspec": {
   "display_name": "Python [conda env:analysis3-23.04]",
   "language": "python",
   "name": "conda-env-analysis3-23.04-py"
  },
  "language_info": {
   "codemirror_mode": {
    "name": "ipython",
    "version": 3
   },
   "file_extension": ".py",
   "mimetype": "text/x-python",
   "name": "python",
   "nbconvert_exporter": "python",
   "pygments_lexer": "ipython3",
   "version": "3.9.17"
  }
 },
 "nbformat": 4,
 "nbformat_minor": 5
}
