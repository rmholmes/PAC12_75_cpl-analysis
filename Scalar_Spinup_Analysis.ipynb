{
 "cells": [
  {
   "cell_type": "code",
   "execution_count": null,
   "id": "0",
   "metadata": {
    "tags": []
   },
   "outputs": [],
   "source": [
    "import matplotlib.pyplot as plt\n",
    "import pandas as pd\n",
    "import numpy as np\n",
    "import xarray as xr\n",
    "import os\n",
    "from IPython.display import Image\n",
    "import sys, os, glob\n",
    "\n",
    "from dask.distributed import Client"
   ]
  },
  {
   "cell_type": "code",
   "execution_count": null,
   "id": "1",
   "metadata": {
    "tags": []
   },
   "outputs": [],
   "source": [
    "# Load workers:\n",
    "client = Client(n_workers=7)\n",
    "client"
   ]
  },
  {
   "cell_type": "markdown",
   "id": "2",
   "metadata": {},
   "source": [
    "# Load and define runs:"
   ]
  },
  {
   "cell_type": "code",
   "execution_count": null,
   "id": "3",
   "metadata": {
    "tags": []
   },
   "outputs": [],
   "source": [
    "base = '/g/data/e14/rmh561/croco/'\n",
    "base_data = base + 'archive/'\n",
    "base_analysis = base + '/analysis/'\n",
    "\n",
    "os.chdir(base_analysis + 'PAC12_75_cpl')\n",
    "sys.path.append(base_analysis + 'PAC12_75_cpl/Processing_Scripts')\n",
    "sys.path.append(base_analysis + 'PAC12_75_cpl/Processing_Scripts/Tracer_balance_code_LMaillard_v2')"
   ]
  },
  {
   "cell_type": "code",
   "execution_count": null,
   "id": "4",
   "metadata": {
    "tags": []
   },
   "outputs": [],
   "source": [
    "# Load custom scripts/tools:\n",
    "import pac12_tools as ptools\n",
    "import R_tools_fort as ftools"
   ]
  },
  {
   "cell_type": "code",
   "execution_count": null,
   "id": "5",
   "metadata": {
    "tags": []
   },
   "outputs": [],
   "source": [
    "# define runs:\n",
    "year0 = 2004.\n",
    "yearE = 2019.\n",
    "# define runs:\n",
    "expdict = {\n",
    "# CROCO-WRF runs:\n",
    "           'CROCO-WRF Control-E1':{'exp':'PAC12_75_cpl','expn':'exp02','CPL':True,'TSoffset': 2014.,'col':'k','lab':'CROCO-WRF Control Ensemble'}\n",
    "           ,'CROCO-WRF Control-E2':{'exp':'PAC12_75_cpl','expn':'exp08','CPL':True,'TSoffset': 2014.,'col':'k','lab':''}\n",
    "           ,'CROCO-WRF Control-E3':{'exp':'PAC12_75_cpl','expn':'exp09','CPL':True,'TSoffset': 2014.,'col':'k','lab':''}\n",
    "           ,'CROCO-WRF Control-E4':{'exp':'PAC12_75_cpl','expn':'exp10','CPL':True,'TSoffset': 2014.,'col':'k','lab':''}\n",
    "           ,'CROCO-WRF Control-E5':{'exp':'PAC12_75_cpl','expn':'exp11','CPL':True,'TSoffset': 2014.,'col':'k','lab':''}\n",
    "           ,'CROCO-WRF NoTFB-E1':{'exp':'PAC12_75_cpl','expn':'exp12','CPL':True,'TSoffset': 2014.,'col':'C0','lab':'CROCO-WRF NoTFB Ensemble'}\n",
    "           ,'CROCO-WRF NoTFB-E2':{'exp':'PAC12_75_cpl','expn':'exp14','CPL':True,'TSoffset': 2014.,'col':'C0','lab':''}\n",
    "           ,'CROCO-WRF NoTFB-E3':{'exp':'PAC12_75_cpl','expn':'exp17','CPL':True,'TSoffset': 2014.,'col':'C0','lab':''}\n",
    "           ,'CROCO-WRF NoTFB-E4':{'exp':'PAC12_75_cpl','expn':'exp20','CPL':True,'TSoffset': 2014.,'col':'C0','lab':''}\n",
    "           ,'CROCO-WRF NoTFB-E5':{'exp':'PAC12_75_cpl','expn':'exp23','CPL':True,'TSoffset': 2014.,'col':'C0','lab':''}\n",
    "           ,'CROCO-WRF NoMesoCFB-E1':{'exp':'PAC12_75_cpl','expn':'exp13','CPL':True,'TSoffset': 2014.,'col':'C1','lab':'CROCO-WRF NoMesoCFB Ensemble'}\n",
    "           ,'CROCO-WRF NoMesoCFB-E2':{'exp':'PAC12_75_cpl','expn':'exp15','CPL':True,'TSoffset': 2014.,'col':'C1','lab':''}\n",
    "           ,'CROCO-WRF NoMesoCFB-E3':{'exp':'PAC12_75_cpl','expn':'exp18','CPL':True,'TSoffset': 2014.,'col':'C1','lab':''}\n",
    "           ,'CROCO-WRF NoMesoCFB-E4':{'exp':'PAC12_75_cpl','expn':'exp21','CPL':True,'TSoffset': 2014.,'col':'C1','lab':''}\n",
    "           ,'CROCO-WRF NoMesoCFB-E5':{'exp':'PAC12_75_cpl','expn':'exp24','CPL':True,'TSoffset': 2014.,'col':'C1','lab':''}\n",
    "           ,'CROCO-WRF NoCFB-E1':{'exp':'PAC12_75_cpl','expn':'exp26','CPL':True,'TSoffset': 2014.,'col':'C2','lab':'CROCO-WRF NoCFB Ensemble'}\n",
    "           ,'CROCO-WRF NoCFB-E2':{'exp':'PAC12_75_cpl','expn':'exp27','CPL':True,'TSoffset': 2014.,'col':'C2','lab':''}\n",
    "           ,'CROCO-WRF NoCFB-E3':{'exp':'PAC12_75_cpl','expn':'exp28','CPL':True,'TSoffset': 2014.,'col':'C2','lab':''}\n",
    "           ,'CROCO-WRF NoCFB-E4':{'exp':'PAC12_75_cpl','expn':'exp29','CPL':True,'TSoffset': 2014.,'col':'C2','lab':''}\n",
    "           ,'CROCO-WRF NoCFB-E5':{'exp':'PAC12_75_cpl','expn':'exp30','CPL':True,'TSoffset': 2014.,'col':'C2','lab':''}\n",
    "           # # ,'CROCO-WRF NoCFB-E1':{'exp':'PAC12_75_cpl','expn':'exp06','CPL':True,'TSoffset': 2014.,'col':'C2','lab':'CROCO-WRF NoCFB Ensemble'}\n",
    "           # ,'CROCO-WRF NoCFB-E2':{'exp':'PAC12_75_cpl','expn':'exp16','CPL':True,'TSoffset': 2014.,'col':'C2','lab':''}\n",
    "           # ,'CROCO-WRF NoCFB-E3':{'exp':'PAC12_75_cpl','expn':'exp19','CPL':True,'TSoffset': 2014.,'col':'C2','lab':''}\n",
    "           # ,'CROCO-WRF NoCFB-E4':{'exp':'PAC12_75_cpl','expn':'exp22','CPL':True,'TSoffset': 2014.,'col':'C2','lab':''}\n",
    "           # ,'CROCO-WRF NoCFB-E5':{'exp':'PAC12_75_cpl','expn':'exp25','CPL':True,'TSoffset': 2014.,'col':'C2','lab':''}\n",
    "           # 'CROCO-WRF PP81':{'exp':'PAC12_75_cpl','expn':'exp05','CPL':True,'TSoffset': 2014.,'col':'C3','lab':'CROCO-WRF PP81'}\n",
    "#           ,'CROCO-WRF PP81 prior':{'exp':'PAC12_75_cpl','expn':'exp05bck','CPL':True,'TSoffset': 2014.,'col':'C3','lab':'CROCO-WRF PP81'}\n",
    "# CROCO-only runs:\n",
    "           ,'CROCO Control':{'exp':'PAC12_75','expn':'exp11','CPL':False,'TSoffset': 2014.,'col':'0.65','lab':'CROCO Control'}\n",
    "#          ,'CROCO PP81':{'exp':'PAC12_75','expn':'exp12','CPL': False,'TSoffset': 2014.}\n",
    "          }\n",
    "cont = 'CROCO-WRF Control-E1'\n",
    "for nam in expdict.keys():\n",
    "    expdict[nam]['sfile'] = base_analysis + expdict[nam]['exp'] + '/' + expdict[nam]['exp'] + '_' + expdict[nam]['expn'] + '_scalarvars.txt'"
   ]
  },
  {
   "cell_type": "markdown",
   "id": "6",
   "metadata": {},
   "source": [
    "# Load scalar data:"
   ]
  },
  {
   "cell_type": "code",
   "execution_count": null,
   "id": "7",
   "metadata": {
    "tags": []
   },
   "outputs": [],
   "source": [
    "# Load scalar data from log files:\n",
    "sdata = {}\n",
    "stime = {}\n",
    "for nam in expdict.keys():\n",
    "    sdata[nam] = pd.read_csv(expdict[nam]['sfile'],header=None,delim_whitespace=True)\n",
    "    stime[nam] = sdata[nam][0]/(86400./300.*365.)+year0"
   ]
  },
  {
   "cell_type": "markdown",
   "id": "8",
   "metadata": {
    "jp-MarkdownHeadingCollapsed": true,
    "tags": []
   },
   "source": [
    "# Process global monthly T and S:"
   ]
  },
  {
   "cell_type": "code",
   "execution_count": null,
   "id": "9",
   "metadata": {
    "tags": []
   },
   "outputs": [],
   "source": [
    "# Load monthly global temperature data for temp and salt plots:\n",
    "#\n",
    "# ncrcat -v temp,salt PAC12_75_expXX/20*/croco_out_mon.nc croco_1m_aver_expXX_temp_salt.nc\n",
    "nams = ['CROCO-WRF PP81']#'CROCO-WRF Control-E3','CROCO-WRF NoTFB-E3','CROCO-WRF NoMesoCFB-E3','CROCO-WRF NoCFB-E1']\n",
    "#nams = ['CROCO-WRF Smooth-SST-E%01d' % (x+1) for x in range(5)] + ['CROCO-WRF NoCFB-E%01d' % (x+1) for x in range(5)] + ['CROCO-WRF NoMesoCFB-E%01d' % (x+1) for x in range(5)]\n",
    "for nam in nams:\n",
    "    TSdata = xr.open_dataset(base_data+expdict[nam]['exp'] + '/croco_1m_aver_' + expdict[nam]['expn'] + '_temp_salt.nc',chunks={'time_counter': 1, 's_rho': 1})\n",
    "    globalT_tmp = TSdata.temp.mean('x_rho').mean('y_rho').mean('s_rho')\n",
    "    globalS_tmp = TSdata.salt.mean('x_rho').mean('y_rho').mean('s_rho')\n",
    "\n",
    "    # Split calculation into single time-step chunks:\n",
    "    globalT = xr.zeros_like(globalT_tmp)\n",
    "    globalS = xr.zeros_like(globalS_tmp)\n",
    "    tL = len(globalT_tmp.time_counter)\n",
    "    for ii in range(tL):\n",
    "        print('Doing time step ' + str(ii+1) + ' of ' + str(tL) + ' Run ' + nam)\n",
    "        globalT[ii] = globalT_tmp.isel(time_counter=ii).load()\n",
    "        globalS[ii] = globalS_tmp.isel(time_counter=ii).load()\n",
    "    Tglob = base_data+expdict[nam]['exp'] + '/' + expdict[nam]['exp'] + '_' + expdict[nam]['expn'] + '_globalT.nc'\n",
    "    Sglob = base_data+expdict[nam]['exp'] + '/' + expdict[nam]['exp'] + '_' + expdict[nam]['expn'] + '_globalS.nc'\n",
    "    globalT.to_netcdf(Tglob)\n",
    "    globalS.to_netcdf(Sglob)"
   ]
  },
  {
   "cell_type": "markdown",
   "id": "10",
   "metadata": {},
   "source": [
    "# Process Monthly Nino 3.4:"
   ]
  },
  {
   "cell_type": "code",
   "execution_count": null,
   "id": "11",
   "metadata": {
    "tags": []
   },
   "outputs": [],
   "source": [
    "# Load Nino 3.4 index:\n",
    "#nam = 'CROCO-WRF Control-E2'\n",
    "for nam in nams:\n",
    "    TSdata = xr.open_dataset(base_data+expdict[nam]['exp'] + '/croco_1m_aver_' + expdict[nam]['expn'] + '_temp_salt.nc',chunks={'time_counter': 1, 's_rho': 1})\n",
    "    TSdata[\"x_rho\"] = TSdata.nav_lon_rho.isel(y_rho=0)\n",
    "    TSdata[\"y_rho\"] = TSdata.nav_lat_rho.isel(x_rho=0)\n",
    "    N34_tmp = TSdata.temp.isel(s_rho=-1).sel(x_rho=slice(-170.+360.,-120.+360.)).sel(y_rho=slice(-5.,5.)).mean('x_rho').mean('y_rho')\n",
    "\n",
    "    # Split calculation into single time-step chunks:\n",
    "    N34 = xr.zeros_like(N34_tmp)\n",
    "    tL = len(N34_tmp.time_counter)\n",
    "    for ii in range(tL):\n",
    "        print('Doing N34 time step ' + str(ii+1) + ' of ' + str(tL) + ' Run ' + nam)\n",
    "        N34[ii] = N34_tmp.isel(time_counter=ii).load()\n",
    "    Tglob = base_data+expdict[nam]['exp'] + '/' + expdict[nam]['exp'] + '_' + expdict[nam]['expn'] + '_N34.nc'\n",
    "    N34.to_netcdf(Tglob)"
   ]
  },
  {
   "cell_type": "code",
   "execution_count": null,
   "id": "12",
   "metadata": {
    "tags": []
   },
   "outputs": [],
   "source": [
    "# Load satellite N34:\n",
    "#OISST = xr.open_mfdataset('/g/data/ua8/NOAA_OISST/AVHRR/v2-1_modified/*_201*.nc',concat_dim=\"time\", combine=\"nested\",\n",
    "OISST  = xr.open_mfdataset('/g/data/ia39/aus-ref-clim-data-nci/oisst/data/yearly/*_201*.nc',concat_dim='time',combine='nested',\n",
    "                  data_vars='minimal', coords='minimal', compat='override',parallel=True).isel(zlev=0)\n",
    "\n",
    "OISST_N34 = OISST.sst.sel(lon=slice(-170.+360.,-120.+360.)).sel(lat=slice(-5.,5.)).mean('lon').mean('lat')\n",
    "OISST_N34 = OISST_N34.sel(time=slice('2014-01-01','2018-12-31'))\n",
    "\n",
    "mavg=True\n",
    "if (mavg):\n",
    "    OISST_N34 = OISST_N34.resample(time=\"1M\").mean()\n",
    "    OISST_N34_2014_time = 2014.+np.arange(0.,len(OISST_N34.time))/12.\n",
    "else: \n",
    "    OISST_N34_2014_time = 2014.+np.arange(0.,len(OISST_N34.time))/365.\n",
    "\n",
    "OISST_N34.load();"
   ]
  },
  {
   "cell_type": "markdown",
   "id": "13",
   "metadata": {
    "tags": []
   },
   "source": [
    "# Process Daily SST, Wind-work and KE-based TIW metrics:"
   ]
  },
  {
   "cell_type": "code",
   "execution_count": null,
   "id": "14",
   "metadata": {},
   "outputs": [],
   "source": [
    "# Define regions:\n",
    "TIW_TVreg = 200., 260., -5., 8. # SST region variance\n",
    "TIW_EKEreg = 200., 260., -5., 8. # EKE region variance\n",
    "filt_width = 6."
   ]
  },
  {
   "cell_type": "code",
   "execution_count": null,
   "id": "15",
   "metadata": {},
   "outputs": [],
   "source": [
    "# OISST TIW-TV calculation:\n",
    "sst = OISST.sst.sel(time=slice('2014-01-01','2018-12-31')).sel(lon=slice(TIW_TVreg[0]-filt_width*2.,TIW_TVreg[1]+filt_width*2.)).sel(lat=slice(TIW_TVreg[2],TIW_TVreg[3])).rename({'lon':'x_rho','lat':'y_rho'}) \n",
    "sst_hp = sst - ptools.zlp_filt(sst,filt_width)\n",
    "sst_hp = sst_hp.sel(x_rho=slice(TIW_TVreg[0],TIW_TVreg[1]))\n",
    "OBS_SSTv = (sst_hp**2.).mean('x_rho').mean('y_rho').resample(time=\"M\").mean().load()"
   ]
  },
  {
   "cell_type": "code",
   "execution_count": null,
   "id": "16",
   "metadata": {},
   "outputs": [],
   "source": [
    "# Load pre-processed model SST and EKE variance:\n",
    "SSTv = {}\n",
    "EKE = {}\n",
    "for nam in expdict.keys():\n",
    "    print(nam)\n",
    "    exp = expdict[nam]['exp']\n",
    "    expn = expdict[nam]['expn']\n",
    "    files = sorted(glob.glob(base_data + exp + '/' + exp + '_' + expn + '/*/croco_out_mon_hp.nc'))\n",
    "    try:\n",
    "        data = xr.open_mfdataset(files, concat_dim=\"time_counter\", combine=\"nested\",data_vars='minimal', coords='minimal', compat='override',parallel=True,chunks={'time_counter':1}).rename({'time_counter':'time'})\n",
    "        data = ptools.create_coords_CROCO(data)\n",
    "    \n",
    "        SSTv[nam] = data.SST_hp_var.sel(x_rho=slice(TIW_TVreg[0],TIW_TVreg[1])).sel(y_rho=slice(TIW_TVreg[2],TIW_TVreg[3])).mean('x_rho').mean('y_rho').load()\n",
    "        Uv = data.U_hp_var.sel(x_u=slice(TIW_TVreg[0],TIW_TVreg[1])).sel(y_u=slice(TIW_TVreg[2],TIW_TVreg[3])).mean('x_u').mean('y_u').load()\n",
    "        Vv = data.V_hp_var.sel(x_v=slice(TIW_TVreg[0],TIW_TVreg[1])).sel(y_v=slice(TIW_TVreg[2],TIW_TVreg[3])).mean('x_v').mean('y_v').load()\n",
    "        EKE[nam] = Uv + Vv\n",
    "        \n",
    "    except:\n",
    "        print('No mon_hp data for ' + nam)"
   ]
  },
  {
   "cell_type": "markdown",
   "id": "17",
   "metadata": {},
   "source": [
    "# Load and plot processed data:"
   ]
  },
  {
   "cell_type": "code",
   "execution_count": null,
   "id": "18",
   "metadata": {
    "tags": []
   },
   "outputs": [],
   "source": [
    "vnames = ['globalT','globalS','N34','TIWKE_U','TIWKE_V','WW','TIWTV']\n",
    "TS = {}\n",
    "\n",
    "for nam in expdict.keys():\n",
    "    TS[nam] = {}\n",
    "    print(nam)\n",
    "    for var in vnames:\n",
    "        name = base_data+expdict[nam]['exp'] + '/' + expdict[nam]['exp'] + '_' + expdict[nam]['expn'] + '_' + var + '.nc'\n",
    "\n",
    "        if (os.path.exists(name)):\n",
    "            TS[nam][var] = xr.open_dataset(name)    \n",
    "            tL = len(TS[nam][var].time_counter)\n",
    "        else:\n",
    "            print('Variable ' + var + ' not found for run ' + nam + ' - run processing step first?')"
   ]
  },
  {
   "cell_type": "code",
   "execution_count": null,
   "id": "19",
   "metadata": {},
   "outputs": [],
   "source": [
    "# Calculate ensembles:\n",
    "N34 = {}\n",
    "for name in expdict.keys():\n",
    "    N34[name] = TS[name]['N34'].temp\n",
    "    \n",
    "lst = [N34,SSTv,EKE]\n",
    "runs = ['CROCO-WRF Control','CROCO-WRF NoTFB','CROCO-WRF NoMesoCFB','CROCO-WRF NoCFB']\n",
    "eL = 5\n",
    "zScore = 1.96\n",
    "for obj in lst:\n",
    "    for run in runs:\n",
    "        obj[run] = obj[run + '-E1'].copy()\n",
    "        obj[run + '-s'] = xr.zeros_like(obj['CROCO-WRF Control-E1'])\n",
    "        for ei in range(eL-1):\n",
    "            obj[run] += obj[run + '-E%01d' % (ei+2)]\n",
    "        obj[run] = obj[run]/eL\n",
    "        for ei in range(eL):\n",
    "            obj[run + '-s'] += (obj[run + '-E%01d' % (ei+1)]-obj[run])**2.\n",
    "        obj[run + '-s'] = np.sqrt(obj[run + '-s']/eL)/np.sqrt(eL)\n",
    "cont = 'CROCO-WRF Control'"
   ]
  },
  {
   "cell_type": "code",
   "execution_count": null,
   "id": "20",
   "metadata": {},
   "outputs": [],
   "source": [
    "# Nino 3.4, SSTv and EKE:\n",
    "#fig, axes = plt.subplots(nrows=3,ncols=1,figsize=(7.5,9),facecolor='w')\n",
    "fig, axes = plt.subplots(nrows=3,ncols=1,figsize=(6,7),facecolor='w')\n",
    "\n",
    "keys = list(expdict.keys())\n",
    "keys = ['CROCO-WRF NoTFB','CROCO-WRF NoMesoCFB','CROCO-WRF NoCFB','CROCO-WRF Control','CROCO Control']\n",
    "cols = ['C0','C1','C2','k','k']\n",
    "stys = ['-','-','-','-','dashed']\n",
    "wids = [1,1,1,2,2]\n",
    "for i,name in enumerate(keys):\n",
    "    label = name\n",
    "    col = cols[i]\n",
    "    sty = stys[i]\n",
    "    wid = wids[i]\n",
    "    N34[name].plot(ax=axes[0],linewidth=wid,color=col,linestyle=sty)\n",
    "    SSTv[name].plot(ax=axes[1],linewidth=wid,label=label,color=col,linestyle=sty)\n",
    "    EKE[name].plot(ax=axes[2],linewidth=wid,color=col,linestyle=sty)\n",
    "    \n",
    "    # Add ensemble ranges:\n",
    "    try:\n",
    "        axes[0].fill_between(N34[name].time_counter,-zScore*N34[name + '-s']+N34[name],zScore*N34[name + '-s']+N34[name],color=col,alpha=0.5)\n",
    "        axes[1].fill_between(SSTv[name].time,-zScore*SSTv[name + '-s']+SSTv[name],zScore*SSTv[name + '-s']+SSTv[name],color=col,alpha=0.5)\n",
    "        axes[2].fill_between(EKE[name].time,-zScore*EKE[name + '-s']+EKE[name],zScore*EKE[name + '-s']+EKE[name],color=col,alpha=0.5)\n",
    "    except:\n",
    "        pass\n",
    "    \n",
    "OISST_N34.plot(ax=axes[0],linewidth=2.,linestyle='dotted',color='k')\n",
    "OBS_SSTv.plot(ax=axes[1],linewidth=2.,linestyle='dotted',label='OISST Observations',color='k')\n",
    "\n",
    "for ax in axes:\n",
    "    ax.grid()\n",
    "    ax.set_title('')\n",
    "    ax.set_xlabel('')\n",
    "    ax.set_xlim([pd.to_datetime('2014-01-01'),pd.to_datetime('2018-12-31')])\n",
    "    ax.set_xticks(pd.to_datetime(['2014','2015','2016','2017','2018']))\n",
    "    ax.set_xticklabels('')\n",
    "axes[2].set_xticklabels(['2014','2015','2016','2017','2018'])\n",
    "axes[2].set_xlabel('Year')\n",
    "axes[0].set_ylabel('Nino 3.4 SST ($^\\circ$C)')\n",
    "axes[1].set_ylabel('SST variance ($^\\circ$C$^2$)')\n",
    "axes[2].set_ylabel('EKE (m$^2$s$^{-2}$)')\n",
    "axes[1].legend(loc='upper left',fontsize=9)\n",
    "axes[1].set_yticks([0.,0.1,0.2,0.3])\n",
    "axes[0].set_ylim([25.5,29.6])\n",
    "axes[1].set_ylim([0.,0.38])\n",
    "axes[2].set_ylim([0.,0.11])\n",
    "axes[0].text(pd.to_datetime('2014-01-08'),29.2,'(a)',fontsize=12)\n",
    "axes[1].text(pd.to_datetime('2018-10-15'),0.343,'(b)',fontsize=12)\n",
    "axes[2].text(pd.to_datetime('2014-01-08'),0.102,'(c)',fontsize=12)\n",
    "#axes[2].annotate(\"\", xy=(0.5, 0.5), xytext=(0, 0),\n",
    "#            arrowprops=dict(arrowstyle=\"<->\"))\n",
    "#axes[2].arrow(pd.to_datetime('2014-01-05'),0.09,pd.Timedelta(0.32, \"d\"),0.)\n",
    "axes[0].text(pd.to_datetime('2014-02-14'),28.8,'Spinup year',fontsize=10)\n",
    "axes[0].plot(pd.to_datetime('2014-01-21'),28.5,'<k')\n",
    "axes[0].plot(pd.to_datetime('2014-12-18'),28.5,'>k')\n",
    "axes[0].text(pd.to_datetime('2015-02-20'),28.8,'Analysis',fontsize=10)\n",
    "axes[0].plot(pd.to_datetime('2015-01-21'),28.5,'<k')\n",
    "axes[0].plot(pd.to_datetime('2018-12-18'),28.5,'>k')\n",
    "axes[0].text(pd.to_datetime('2018-06-20'),28.8,'Period',fontsize=10)\n",
    "plt.tight_layout()\n",
    "\n",
    "plt.savefig('Production_Figures/TimeSeries.png',dpi=250)"
   ]
  },
  {
   "cell_type": "code",
   "execution_count": null,
   "id": "21",
   "metadata": {
    "tags": []
   },
   "outputs": [],
   "source": [
    "plt.figure(figsize=(15,28))\n",
    "year0 = 2004.\n",
    "\n",
    "keys = ['CROCO-WRF PP81 prior','CROCO-WRF PP81']#expdict.keys()\n",
    "#keys = ['CROCO-WRF NoMesoCFB-E%01d' % (x+1) for x in range(5)]#,'CROCO-WRF Control-E2','CROCO-WRF NoCFB','CROCO-WRF Smooth-SST','CROCO-WRF NoMesoCFB']\n",
    "#keys = ['CROCO-WRF Control-E1','CROCO-WRF Smooth-SST-E1','CROCO-WRF Smooth-SST-E2','CROCO-WRF Smooth-SST-E3','CROCO-WRF Smooth-SST-E4','CROCO-WRF Smooth-SST-E5']\n",
    "#keys = ['CROCO-WRF Control-E1','CROCO-WRF Control-E2','CROCO-WRF NoCFB','CROCO-WRF Smooth-SST','CROCO-WRF NoMesoCFB']\n",
    "# keys = ['CROCO-WRF Control-E1','CROCO-WRF NoCFB-E1','CROCO-WRF NoCFB-E2','CROCO-WRF NoCFB-E3','CROCO-WRF NoCFB-E4','CROCO-WRF NoCFB-E5','CROCO-WRF NoCFBr-E1']\n",
    "#plt.figure(figsize=(8,28))\n",
    "#year0 = 2014.\n",
    "\n",
    "#plt.subplot(6,1,1)\n",
    "#for name in expdict.keys():\n",
    "#    plt.plot(stime[name].values,sdata[name][0],label=name)\n",
    "#plt.ylabel('Time Step')\n",
    "#plt.grid()\n",
    "plt.subplot(6,1,1)\n",
    "for name in keys:\n",
    "    plt.plot(stime[name],sdata[name][2],label=name)\n",
    "plt.ylabel('Kinetic Energy')\n",
    "plt.grid()\n",
    "plt.xlim([year0,yearE])\n",
    "plt.legend()\n",
    "\n",
    "plt.subplot(6,1,2)\n",
    "for name in keys:\n",
    "    plt.plot(stime[name],sdata[name][3],label=name)\n",
    "plt.ylabel('Potential Energy')\n",
    "plt.grid()\n",
    "plt.xlim([year0,yearE])\n",
    "plt.subplot(6,1,3)\n",
    "for name in keys:\n",
    "    plt.plot(stime[name],sdata[name][5],label=name)\n",
    "plt.ylabel('Total Volume')\n",
    "plt.grid()\n",
    "plt.xlim([year0,yearE])\n",
    "\n",
    "# plt.subplot(6,1,4)\n",
    "# for name in keys:\n",
    "#     tL = len(TS[name]['globalT'].temp)\n",
    "#     TStime = [x/12.+expdict[name]['TSoffset'] for x in range(tL)]\n",
    "#     plt.plot(TStime,TS[name]['globalT'].temp)\n",
    "# plt.ylabel('Temperature (degC)')\n",
    "# plt.grid()\n",
    "# plt.xlim([year0,yearE])\n",
    "\n",
    "# plt.subplot(6,1,5)\n",
    "# for name in keys:\n",
    "#     tL = len(TS[name]['globalS'].salt)\n",
    "#     TStime = [x/12.+expdict[name]['TSoffset'] for x in range(tL)]\n",
    "#     plt.plot(TStime,TS[name]['globalS'].salt,label=name)\n",
    "# plt.ylabel('Salinity (psu)')\n",
    "# plt.xlabel('Year')\n",
    "# plt.grid()\n",
    "# plt.xlim([year0,yearE])\n",
    "\n",
    "# plt.subplot(6,1,6)\n",
    "# for name in keys:\n",
    "#     tL = len(TS[name]['N34'].temp)\n",
    "#     TStime = [x/12.+expdict[name]['TSoffset'] for x in range(tL)]\n",
    "#     plt.plot(TStime,TS[name]['N34'].temp,label=name)\n",
    "# plt.plot(OISST_N34_2014_time,OISST_N34.values,linestyle='dashed',label='OISST Obs.')\n",
    "# #plt.plot(OISST_N34.time,OISST_N34.values,linestyle='dashed',label='OISST Obs.')\n",
    "# plt.ylabel('Nino 3.4 (degC)')\n",
    "# plt.xlabel('Year')\n",
    "# plt.grid()\n",
    "# plt.xlim([year0,yearE])\n",
    "\n",
    "#plt.savefig('Global_Variables_CFB.png',dpi=150)"
   ]
  },
  {
   "cell_type": "code",
   "execution_count": null,
   "id": "22",
   "metadata": {
    "tags": []
   },
   "outputs": [],
   "source": [
    "# Nino 3.4 (raw):\n",
    "fig, axes = plt.subplots(nrows=1,ncols=1,figsize=(16,8),facecolor='w')\n",
    "\n",
    "#keys = list(expdict.keys())\n",
    "#keys.remove('CROCO Control')\n",
    "#keys = ['CROCO-WRF Control-E1','CROCO-WRF Smooth-SST-E1','CROCO-WRF Smooth-SST-E2','CROCO-WRF Smooth-SST-E3','CROCO-WRF Smooth-SST-E4','CROCO-WRF Smooth-SST-E5']\n",
    "#keys = ['CROCO Control', 'CROCO-WRF Control-E1','CROCO-WRF Control-E2','CROCO-WRF Control-E3','CROCO-WRF Control-E4','CROCO-WRF Control-E5',\n",
    "#       'CROCO-WRF Smooth-SST','CROCO-WRF NoCFB','CROCO-WRF NoMesoCFB',\n",
    "#       ]\n",
    "#cols = ['k','0.65','0.65','0.65','0.65','0.65',\n",
    "#        'C0','C1','C2']\n",
    "#labels = ['CROCO Control','CROCO-WRF Control Ensemble','','','','',\n",
    "#          'CROCO-WRF Smooth-SST','CROCO-WRF No CFB','CROCO-WRF No Mesoscale CFB']\n",
    "#keys = ['CROCO-WRF Control-E1','CROCO-WRF NoCFB-E1','CROCO-WRF NoCFB-E2','CROCO-WRF NoCFB-E3','CROCO-WRF NoCFB-E4','CROCO-WRF NoCFB-E5','CROCO-WRF NoCFBr-E1']\n",
    "\n",
    "for i,name in enumerate(keys):\n",
    "    label = expdict[name]['lab']\n",
    "    col = expdict[name]['col']\n",
    "    if len(label)>1:\n",
    "        TS[name]['N34'].temp.plot(ax=axes,linewidth=1.,label=label,color=col,alpha=0.7)\n",
    "    else:\n",
    "        TS[name]['N34'].temp.plot(ax=axes,linewidth=1.,color=col,alpha=0.7)\n",
    "        \n",
    "axes.grid()\n",
    "OISST_N34.plot(ax=axes,linewidth=2.,linestyle='dashed',label='NOAA OISST observations',color='k')\n",
    "axes.set_xlabel('Year')\n",
    "axes.set_ylabel('SST in Nino 3.4 Region ($^\\circ$C)')\n",
    "axes.legend()\n",
    "axes.set_title('')\n",
    "\n",
    "#plt.savefig('Nino34_CROCO-WRF_only.png',dpi=150)"
   ]
  },
  {
   "cell_type": "code",
   "execution_count": null,
   "id": "23",
   "metadata": {},
   "outputs": [],
   "source": [
    "# Nino 3.4 (deseasoned):\n",
    "fig, axes = plt.subplots(nrows=1,ncols=1,figsize=(12,6),facecolor='w')\n",
    "\n",
    "climatology = (TS['CROCO-WRF Control-E1']['N34'].temp.groupby(\"time_counter.month\").mean()+\n",
    "               TS['CROCO-WRF Control-E2']['N34'].temp.groupby(\"time_counter.month\").mean()+\n",
    "               TS['CROCO-WRF Control-E3']['N34'].temp.groupby(\"time_counter.month\").mean()+\n",
    "               TS['CROCO-WRF Control-E4']['N34'].temp.groupby(\"time_counter.month\").mean()+\n",
    "               TS['CROCO-WRF Control-E5']['N34'].temp.groupby(\"time_counter.month\").mean())/5.\n",
    "\n",
    "for i,name in enumerate(keys):\n",
    "    if len(labels[i])>1:\n",
    "        (TS[name]['N34'].temp.groupby('time_counter.month')-climatology).plot(ax=axes,linewidth=2.,label=labels[i],color=cols[i])\n",
    "    else:\n",
    "        (TS[name]['N34'].temp.groupby('time_counter.month')-climatology).plot(ax=axes,linewidth=2.,color=cols[i])\n",
    "axes.grid()\n",
    "climatology = OISST_N34.groupby(\"time.month\").mean()\n",
    "(OISST_N34.groupby(\"time.month\")-climatology).plot(ax=axes,linewidth=2.,linestyle='dashed',label='NOAA OISST observations',color='k')\n",
    "axes.set_xlabel('Year')\n",
    "axes.set_ylabel('SST in Nino 3.4 region ($^\\circ$C)')\n",
    "axes.legend()\n",
    "axes.set_title('')\n",
    "\n",
    "plt.savefig('Nino34_deseasoned.png',dpi=150)"
   ]
  },
  {
   "cell_type": "code",
   "execution_count": null,
   "id": "24",
   "metadata": {},
   "outputs": [],
   "source": [
    "fig, axes = plt.subplots(nrows=7,ncols=1,figsize=(15,28))\n",
    "\n",
    "varbs = ['N34','globalT','globalS','WW','TIWTV','TIWKE_U','TIWKE_V']\n",
    "keys = ['CROCO-WRF Control','CROCO-WRF Smooth-SST','CROCO-WRF NoCFB','CROCO-WRF NoMesoCFB']\n",
    "\n",
    "for i,v in enumerate(varbs):\n",
    "    for name in keys:\n",
    "        varname = list(TS[name][v].keys())[0]\n",
    "        TS[name][v][varname].resample(time_counter=\"1MS\").mean(dim=\"time_counter\").plot(ax=axes[i],linewidth=3.,label=name)#.resample(time_counter=\"1MS\").mean(dim=\"time_counter\")\n",
    "    axes[i].set_ylabel(v)\n",
    "    axes[i].grid()\n",
    "#OISST_N34.plot(ax=axes[0],linewidth=2.,linestyle='dashed',label='OISST Obs.')\n",
    "axes[-1].set_xlabel('Year')\n",
    "axes[-1].legend()\n",
    "\n",
    "#plt.savefig('TIW_Variance_WW_CROCO-WRF_TimeSeries.png',dpi=150)"
   ]
  },
  {
   "cell_type": "code",
   "execution_count": null,
   "id": "25",
   "metadata": {},
   "outputs": [],
   "source": [
    "# Check on deseasoning:\n",
    "fig, axes = plt.subplots(nrows=1,ncols=3,figsize=(20,10))\n",
    "keys = ['CROCO Control','CROCO-WRF Control']\n",
    "cols = ['C0','C1']\n",
    "for i, name in enumerate(keys):\n",
    "    print(name)\n",
    "    raw = TS[name]['N34'].temp-TS[name]['N34'].temp.mean('time_counter')\n",
    "    climatology = raw.groupby(\"time_counter.month\").mean()\n",
    "    desea = raw.groupby('time_counter.month')-climatology\n",
    "    \n",
    "    raw.plot(ax=axes[1],label=name + ' raw',color=cols[i])\n",
    "    climatology.plot(ax=axes[0],label=name + ' climatology',color=cols[i])\n",
    "    desea.plot(ax=axes[1],label=name + ' deseasoned',color=cols[i],linestyle='dashed')\n",
    "    (raw-desea).plot(ax=axes[2],label=name + ' raw - deseasoned',color=cols[i],linestyle='dashed')\n",
    "axes[0].legend()\n",
    "axes[0].set_title('Climatology (2014-2018)')\n",
    "axes[0].set_ylabel('Nino 3.4')\n",
    "axes[1].legend()\n",
    "axes[1].set_title('Raw and Deseasoned')\n",
    "axes[2].legend()\n",
    "axes[2].set_title('Raw - deseasoned')\n",
    "\n",
    "plt.savefig('Deseasoning_Check.png',dpi=100)"
   ]
  },
  {
   "cell_type": "code",
   "execution_count": null,
   "id": "26",
   "metadata": {},
   "outputs": [],
   "source": [
    "# OLD without pre-processing\n",
    "#\n",
    "# ncrcat -v nav_lat,nav_lon,SST,UOCE,VOCE,TAUX,TAUY PAC12_75_cpl_exp03/201*/wrf3d_1D_*.nc wrf_1d_aver_exp03_surfvars.nc\n",
    "nam = 'CROCO-WRF NoMesoCFB'\n",
    "SFdata = xr.open_dataset(base_data+expdict[nam]['exp'] + '/wrf_1d_aver_' + expdict[nam]['expn'] + '_surfvars.nc',chunks={'time_counter': 1})\n",
    "\n",
    "lon = SFdata.nav_lon.isel(y=0)\n",
    "lon = np.where(np.less(lon,0.).values,lon+360.,lon)\n",
    "lat = SFdata.nav_lat.isel(x=0).values\n",
    "SFdata[\"x\"] = lon\n",
    "SFdata[\"y\"] = lat\n",
    "DX = (SFdata.nav_lon[0,1]-SFdata.nav_lon[0,0]).values\n",
    "DY = (SFdata.nav_lat[1,0]-SFdata.nav_lat[0,0]).values\n",
    "Re = 6371000.0\n",
    "lt,ln = xr.broadcast(SFdata.x,SFdata.y)\n",
    "SFdata['area'] = (DY*np.pi/180.*Re)*(DX*np.pi/180.*Re)*np.cos(lt/180.*np.pi)\n",
    "\n",
    "yreg = [-5.,8.]\n",
    "SFdata = SFdata.sel(y=slice(yreg[0],yreg[1]))\n",
    "\n",
    "ln_hp_filt = 12.0\n",
    "xreg = [180.,260.]\n",
    "\n",
    "rho0 = 1035.\n",
    "\n",
    "# Wind-work:\n",
    "WW_tmp = (SFdata.UOCE.sel(x=slice(xreg[0],xreg[1]))*SFdata.TAUX.sel(x=slice(xreg[0],xreg[1]))+\n",
    "         SFdata.VOCE.sel(x=slice(xreg[0],xreg[1]))*SFdata.TAUY.sel(x=slice(xreg[0],xreg[1])))*SFdata.area\n",
    "WW_tmp = WW_tmp.sum('x').sum('y')\n",
    "\n",
    "# TIWKE:\n",
    "VOCE = SFdata.VOCE.sel(x=slice(xreg[0]-ln_hp_filt,xreg[1]+ln_hp_filt))\n",
    "TIWKE_V_tmp = (VOCE-VOCE.rolling(x=int(ln_hp_filt/DX),center=True).mean())**2.*SFdata.area\n",
    "TIWKE_V_tmp = 0.5*rho0*TIWKE_V_tmp.sel(x=slice(xreg[0],xreg[1])).sum('x').sum('y')\n",
    "\n",
    "UOCE = SFdata.UOCE.sel(x=slice(xreg[0]-ln_hp_filt,xreg[1]+ln_hp_filt))\n",
    "TIWKE_U_tmp = (UOCE-UOCE.rolling(x=int(ln_hp_filt/DX),center=True).mean())**2.*SFdata.area\n",
    "TIWKE_U_tmp = 0.5*rho0*TIWKE_U_tmp.sel(x=slice(xreg[0],xreg[1])).sum('x').sum('y')\n",
    "\n",
    "# TIWTV:\n",
    "SST = SFdata.SST.sel(x=slice(xreg[0]-ln_hp_filt,xreg[1]+ln_hp_filt))\n",
    "TIWTV_tmp = (SST-SST.rolling(x=int(ln_hp_filt/DX),center=True).mean())**2.*SFdata.area\n",
    "TIWTV_tmp = TIWTV_tmp.sel(x=slice(xreg[0],xreg[1])).sum('x').sum('y')\n",
    "\n",
    "# Split calculation into single time-step chunks:\n",
    "WW = xr.zeros_like(WW_tmp)\n",
    "TIWKE_U = xr.zeros_like(TIWKE_U_tmp)\n",
    "TIWKE_V = xr.zeros_like(TIWKE_V_tmp)\n",
    "TIWTV = xr.zeros_like(TIWTV_tmp)\n",
    "tL = len(WW_tmp.time_counter)\n",
    "for ii in range(tL):\n",
    "    print('Doing time step ' + str(ii+1) + ' of ' + str(tL) + ' Run ' + nam)\n",
    "    WW[ii] = WW_tmp.isel(time_counter=ii).load()\n",
    "    TIWKE_U[ii] = TIWKE_U_tmp.isel(time_counter=ii).load()\n",
    "    TIWKE_V[ii] = TIWKE_V_tmp.isel(time_counter=ii).load()\n",
    "    TIWTV[ii] = TIWTV_tmp.isel(time_counter=ii).load()\n",
    "WWglob = base_data+expdict[nam]['exp'] + '/' + expdict[nam]['exp'] + '_' + expdict[nam]['expn'] + '_WW.nc'\n",
    "TIWKE_Uglob = base_data+expdict[nam]['exp'] + '/' + expdict[nam]['exp'] + '_' + expdict[nam]['expn'] + '_TIWKE_U.nc'\n",
    "TIWKE_Vglob = base_data+expdict[nam]['exp'] + '/' + expdict[nam]['exp'] + '_' + expdict[nam]['expn'] + '_TIWKE_V.nc'\n",
    "TIWTVglob = base_data+expdict[nam]['exp'] + '/' + expdict[nam]['exp'] + '_' + expdict[nam]['expn'] + '_TIWTV.nc'\n",
    "WW.to_netcdf(WWglob)\n",
    "TIWKE_U.to_netcdf(TIWKE_Uglob)\n",
    "TIWKE_V.to_netcdf(TIWKE_Vglob)\n",
    "TIWTV.to_netcdf(TIWTVglob)"
   ]
  },
  {
   "cell_type": "code",
   "execution_count": null,
   "id": "27",
   "metadata": {},
   "outputs": [],
   "source": [
    "WW.to_netcdf(WWglob)\n",
    "TIWKE_U.to_netcdf(TIWKE_Uglob)\n",
    "TIWKE_V.to_netcdf(TIWKE_Vglob)\n",
    "TIWTV.to_netcdf(TIWTVglob)"
   ]
  },
  {
   "cell_type": "markdown",
   "id": "28",
   "metadata": {},
   "source": [
    "![title](spinup_evolution_for_coupled_simu.png)"
   ]
  }
 ],
 "metadata": {
  "kernelspec": {
   "display_name": "Python [conda env:analysis3-22.07]",
   "language": "python",
   "name": "conda-env-analysis3-22.07-py"
  },
  "language_info": {
   "codemirror_mode": {
    "name": "ipython",
    "version": 3
   },
   "file_extension": ".py",
   "mimetype": "text/x-python",
   "name": "python",
   "nbconvert_exporter": "python",
   "pygments_lexer": "ipython3",
   "version": "3.9.15"
  }
 },
 "nbformat": 4,
 "nbformat_minor": 5
}
