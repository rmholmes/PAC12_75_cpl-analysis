{
 "cells": [
  {
   "cell_type": "code",
   "execution_count": 17,
   "id": "5c520afd-3671-46d9-b9d7-b8914ed62b54",
   "metadata": {},
   "outputs": [],
   "source": [
    "%matplotlib inline\n",
    "import sys, os, glob\n",
    "import numpy as np\n",
    "import netCDF4 as nc\n",
    "import matplotlib.pyplot as plt\n",
    "import matplotlib.path as pth\n",
    "\n",
    "from dask.distributed import Client\n",
    "os.chdir('/g/data/e14/rmh561/croco/analysis/PAC12_75_cpl/')"
   ]
  },
  {
   "cell_type": "code",
   "execution_count": 18,
   "id": "488041a4-c3f1-47b0-91ec-076142a08d0b",
   "metadata": {},
   "outputs": [],
   "source": [
    "import quadrilateral_tools as intp "
   ]
  },
  {
   "cell_type": "code",
   "execution_count": 19,
   "id": "7261a7aa-22a9-4c89-a527-74c631cdb261",
   "metadata": {},
   "outputs": [],
   "source": [
    "def lonlat_to_m(lon,lat,plon,plat):\n",
    "    # follow Haversine formula\n",
    "    lon  = lon*2.*np.pi/360.\n",
    "    lat  = lat*2.*np.pi/360.\n",
    "    plon = plon*2*np.pi/360.\n",
    "    plat = plat*2*np.pi/360\n",
    "    if isinstance(lon,float):\n",
    "        dx = np.arccos(np.sin(lat)*np.sin(plat) + np.cos(lat)*np.cos(plat)*np.cos(lon-plon))*6371000.\n",
    "    else:\n",
    "        dx = np.arccos(np.sin(lat[:])*np.sin(plat) + np.cos(lat[:])*np.cos(plat)*np.cos(lon[:]-plon))*6371000.\n",
    "    return dx"
   ]
  },
  {
   "cell_type": "code",
   "execution_count": 20,
   "id": "6e3e5ae9-d03d-4bf7-aab8-4d8c628bd876",
   "metadata": {},
   "outputs": [],
   "source": [
    "##### Input files #########\n",
    "\n",
    "iodir = '/g/data/e14/rmh561/croco/data/OASIS_FILES/PAC12_75_cpl/' # Input repository\n",
    "\n",
    "## OCE ##\n",
    "fileo = iodir+'croco_grd.nc' # Ocean grid file\n",
    "\n",
    "## ATM ##e\n",
    "filea = iodir+'wrf_grd.nc' # Atmosphere grid file\n",
    "filemask= iodir +'wrf_grd.nc' # where to find CPLMASK\n",
    "extdom = 0  # which external domain should we select in CPLMASK\n",
    "\n",
    "### Do you want to perform test? (plot without smoothing/save netcdf sst smoothed)\n",
    "test_flag=1\n",
    "sstfile=iodir+'sst.nc' # sst file (var need to be temp)\n",
    "\n",
    "# pixels at a distance of more than 3sig are small enough to be\n",
    "# considered effectively zero\n",
    "sigx = 24\n",
    "sigy = 1\n",
    "cutratio = 0.01\n",
    "\n",
    "## Output file ##\n",
    "foldout=iodir # where OASIS_FILES should be\n",
    "fileout = 'mapping_o2a_gauss_sigx'+'{:02d}'.format(int(sigx))+'_sigy'+'{:02d}'.format(int(sigy))+'_cut'+'{:02d}'.format(int(cutratio*100))+'.nc'"
   ]
  },
  {
   "cell_type": "markdown",
   "id": "c3fabd20-d3d5-4551-a71b-f7bc6b9371f9",
   "metadata": {},
   "source": [
    "# Load data"
   ]
  },
  {
   "cell_type": "code",
   "execution_count": 21,
   "id": "5b0b4de2-3e10-4153-b4f7-9d1db82a8084",
   "metadata": {},
   "outputs": [],
   "source": [
    "# croco grid  \n",
    "\n",
    "ncf=nc.Dataset(fileo,'r')\n",
    "lono = ncf.variables['lon_rho'][1:-1,1:-1]\n",
    "lato = ncf.variables['lat_rho'][1:-1,1:-1]\n",
    "msko = ncf.variables['mask_rho'][1:-1,1:-1]\n",
    "ncf.close()\n",
    "\n",
    "[jpio,jpjo]=np.shape(lono)\n",
    "jpijo = jpio * jpjo\n",
    "\n",
    "# wrf grid\n",
    "\n",
    "ncf=nc.Dataset(filea,'r')\n",
    "lona = np.squeeze(ncf.variables['XLONG'][:])\n",
    "lata = np.squeeze(ncf.variables['XLAT'][:])\n",
    "ncf.close\n",
    "\n",
    "ncf=nc.Dataset(filemask,'r')\n",
    "mska = np.squeeze(ncf.variables['CPLMASK'][0,extdom,:,:])\n",
    "ncf.close()\n",
    "\n",
    "[jpia,jpja]=np.shape(lona)\n",
    "\n",
    "# extend theta domain...\n",
    "# longitude\n",
    "dx = lona[-1,:] - lona[-2,:]\n",
    "lona = np.row_stack((lona,lona[-1,:]+dx))\n",
    "lona = np.c_[lona,lona[:,-1]]\n",
    "\n",
    "# latitude\n",
    "lata = np.row_stack((lata, lata[-1,:]))\n",
    "dy = lata[:,-1]-lata[:,-2]\n",
    "lata = np.c_[lata,lata[:,-1]+dy]\n",
    "\n",
    "[jpia,jpja]=np.shape(lona)\n",
    "jpija = jpia * jpja\n",
    "\n",
    "# mask\n",
    "mska = np.c_[mska,np.zeros(jpia-1)]\n",
    "mska = np.row_stack(( mska,np.zeros(jpja) ))"
   ]
  },
  {
   "cell_type": "markdown",
   "id": "46168a5b-b950-4368-9576-c868a3a3ec37",
   "metadata": {},
   "source": [
    "# Build bi-linear interpolation weights"
   ]
  },
  {
   "cell_type": "code",
   "execution_count": null,
   "id": "9c4b0b25-db69-4935-992b-75c67fb35824",
   "metadata": {},
   "outputs": [],
   "source": [
    "\n",
    "weio2a = np.zeros([jpija, 4])\n",
    "addo2a = np.zeros([jpija, 4])\n",
    "\n",
    "#\n",
    "# define all cells that have corners located at lono, lato\n",
    "# we define the cell with the address of all corners\n",
    "#\n",
    "#            3  bdy2 2\n",
    "#             +------+\n",
    "#             |      |\n",
    "#         bdy3|      |bdy1\n",
    "#             |      |\n",
    "#             +------+\n",
    "#            0  bdy0 1\n",
    "#\n",
    "celladdr0 = np.arange(0,jpijo).reshape(jpio,jpjo)\n",
    "# remove last line/colomn  \n",
    "celladdr0 = celladdr0[0:-1,0:-1].ravel()\n",
    "\n",
    "xx0 = lono.ravel()[celladdr0]\n",
    "yy0 = lato.ravel()[celladdr0]\n",
    "celladdr1 = celladdr0 + 1\n",
    "xx1 = lono.ravel()[celladdr1]\n",
    "yy1 = lato.ravel()[celladdr1]\n",
    "celladdr2 = celladdr1 + jpjo\n",
    "xx2 = lono.ravel()[celladdr2]\n",
    "yy2 = lato.ravel()[celladdr2]\n",
    "celladdr3 = celladdr2 - 1\n",
    "xx3 = lono.ravel()[celladdr3]\n",
    "yy3 = lato.ravel()[celladdr3]\n",
    "\n",
    "print('Begin creating weight')\n",
    "\n",
    "perc=0\n",
    "for ii in range(0,jpija):\n",
    "    if (100*ii/jpija >= perc ): print(\"%02d%% done...\" % perc );perc+=10\n",
    "    xx = lona.ravel()[ii]\n",
    "    yy = lata.ravel()[ii]\n",
    "# Find for closest points\n",
    "#        dist=lonlat_to_m(xx0,yy0,xx,yy).ravel()\n",
    "    dist=np.sqrt((xx-xx0)**2+(yy-yy0)**2)      \n",
    "    for jj in range(0,8): # loop on 4 closest points\n",
    "        distok=np.argmin(dist).astype('int')\n",
    "        dist[distok]=1e9 # put high number instead of NAN as argmin is faster ( about 3 times) than nanargmin\n",
    "\n",
    "        xx0ok = xx0[distok]\n",
    "        yy0ok = yy0[distok]\n",
    "        xx1ok = xx1[distok]\n",
    "        yy1ok = yy1[distok]\n",
    "        xx2ok = xx2[distok]  \n",
    "        yy2ok = yy2[distok]\n",
    "        xx3ok = xx3[distok]\n",
    "        yy3ok = yy3[distok]\n",
    "\n",
    "# Check if point is in quad\n",
    "        polygon=np.array((np.hstack((xx0ok,xx1ok,xx2ok,xx3ok,xx0ok)),np.hstack((yy0ok,yy1ok,yy2ok,yy3ok,yy0ok)) )).T\n",
    "        points = np.array(( xx.ravel(),yy.ravel() )).T\n",
    "\n",
    "        isin = pth.Path(polygon,closed=True).contains_points(points) \n",
    "        if isin : \n",
    "            ind=distok\n",
    "#   \n",
    "            xtmp0=np.array([xx0ok]); ytmp0=np.array([yy0ok])\n",
    "            xtmp1=np.array([xx1ok]); ytmp1=np.array([yy1ok])\n",
    "            xtmp2=np.array([xx2ok]); ytmp2=np.array([yy2ok])\n",
    "            xtmp3=np.array([xx3ok]); ytmp3=np.array([yy3ok])\n",
    "            xtmp =np.array([xx])   ; ytmp =np.array([yy])\n",
    "\n",
    "            xy=intp.quadrilateral2square(xtmp0,ytmp0,xtmp1,ytmp1,xtmp2,ytmp2,xtmp3,ytmp3,xtmp,ytmp)\n",
    "            xy = np.round(1000.*xy)/1000.\n",
    "\n",
    "# define 4 interpolating corners address (with sorted address: 0,1,3,2)\n",
    "            addtmp = celladdr0[ind] \n",
    "            addo2a[ii, 0] = addtmp\n",
    "            addo2a[ii, 1] = addtmp+1\n",
    "            addo2a[ii, 2] = addtmp+jpjo\n",
    "            addo2a[ii, 3] = addtmp+1+jpjo\n",
    "\n",
    "# define 4 interpolating corners weight\n",
    "            weio2a[ii, 0] = (1. - xy[0]) * (1. - xy[1])\n",
    "            weio2a[ii, 1] =       xy[0]  * (1. - xy[1])\n",
    "            weio2a[ii, 2] = (1. - xy[0]) *       xy[1]\n",
    "            weio2a[ii, 3] =       xy[0]  *       xy[1]\n",
    "            break\n",
    "print('End building weight inside oce grid')\n",
    "\n",
    "###########################################################\n",
    "\n",
    "print('Building weight outside oce grid')\n",
    "\n",
    "totwei = np.sum(weio2a, 1) #sum over column\n",
    "bad = np.argwhere(totwei.ravel()==0); nbad=len(bad) # check where 0\n",
    "\n",
    "del dist, distok\n",
    "if nbad != 0:\n",
    "    perc=0\n",
    "    for ii in range(0,nbad):\n",
    "        if (100*ii/nbad > perc ): print(\"%02d%% done...\" % perc );perc+=10\n",
    "\n",
    "        xx = lona.ravel()[int(bad[ii])]\n",
    "        yy = lata.ravel()[int(bad[ii])]\n",
    "\n",
    "   # Find 4 closest ocean points \n",
    "        distok=np.empty(4)\n",
    "        distfin=np.empty(4)\n",
    "#            dist=lonlat_to_m(lono.ravel(),lato.ravel(),xx,yy)\n",
    "        dist=np.sqrt((xx-lono.ravel())**2+(yy-lato.ravel())**2)\n",
    "        for kk in range(0,distok.shape[0]):\n",
    "            distok[kk] = np.argmin(dist).astype('int')\n",
    "            distfin[kk]=dist[distok[kk].astype('int')]\n",
    "            dist[distok[kk].astype('int')]=1e5\n",
    "\n",
    "        addo2a[bad[ii], :] = np.sort(distok)\n",
    "        weio2a[bad[ii], :] = 1./np.sqrt(distfin[np.argsort(distok)])\n",
    "        weio2a[bad[ii], :] = np.round(1000.*weio2a[bad[ii], :])/1000.\n",
    "\n",
    "print('End building weight outside oce grid')\n",
    "\n",
    "# normalize weio2a\n",
    "totweir = 1./np.sum(weio2a,1)\n",
    "weio2a = weio2a * np.outer(totweir,np.ones(4) )\n",
    "\n",
    "del dist,distfin,distok,bad,xx0,yy0,xx1,yy1,xx2,yy2,xx3,yy3"
   ]
  },
  {
   "cell_type": "markdown",
   "id": "5242b103-eded-4cf4-b854-0cc0b232fbdf",
   "metadata": {},
   "source": [
    "# Smooth atmosphere values"
   ]
  },
  {
   "cell_type": "code",
   "execution_count": 22,
   "id": "1dd480e2-911b-4a0b-bd50-3a29400ad46f",
   "metadata": {},
   "outputs": [],
   "source": [
    "# compute weights and addresses for the smooth of atm grid\n",
    "#   --> addasmth and weiasmth  (jpija, nn*nn)\n",
    "\n",
    "# pixels at a distance of more than 3sig are small enough to be\n",
    "# considered effectively zero\n",
    "\n",
    "nn = int(3*2*sigx+1)\n",
    "nn2 = nn*nn\n",
    "\n",
    "# gaussian window\n",
    "xx = np.outer(np.arange(0,nn),np.ones(nn))             # (nn, nn) \n",
    "yy = np.outer(np.ones(nn) ,np.arange(0,nn))            # (nn, nn)\n",
    "dd = np.sqrt( ((xx-nn/2)**2)/sigx**2 + ((yy-nn/2)**2)/sigy**2 )\n",
    "ww = 1./(2*np.pi*sigx*sigy) *np.exp( -0.5*dd**2 )   # (nn, nn) \n",
    "#keepww = np.argwhere((ww.ravel() >= max(ww.ravel())*cutratio)); nnok=len(keepww)\n",
    "#ww = ww.ravel()[keepww]                                # (nnok)\n",
    "\n",
    "#winaddx = np.outer(np.ones(nn),np.arange(0,nn)-nn/2)   # (nn, nn)\n",
    "#winaddy = np.outer(np.arange(nn)-nn/2,np.ones(nn))     # (nn, nn)\n",
    "#winaddx = winaddx.ravel()[keepww.astype('int')]        # (nnok)\n",
    "#winaddy = winaddy.ravel()[keepww.astype('int')]        # (nnok)"
   ]
  },
  {
   "cell_type": "code",
   "execution_count": 23,
   "id": "c390dfe2-f27a-4b56-ae07-003e787ef17b",
   "metadata": {},
   "outputs": [
    {
     "data": {
      "text/plain": [
       "(145, 145)"
      ]
     },
     "execution_count": 23,
     "metadata": {},
     "output_type": "execute_result"
    }
   ],
   "source": [
    "np.shape(ww)"
   ]
  },
  {
   "cell_type": "code",
   "execution_count": 25,
   "id": "453714ff-af20-462b-8a4a-0627d1bb45a8",
   "metadata": {},
   "outputs": [
    {
     "data": {
      "text/plain": [
       "<matplotlib.colorbar.Colorbar at 0x7f460aa37fd0>"
      ]
     },
     "execution_count": 25,
     "metadata": {},
     "output_type": "execute_result"
    },
    {
     "data": {
      "image/png": "[encoded data removed]",
      "text/plain": [
       "<Figure size 432x288 with 2 Axes>"
      ]
     },
     "metadata": {
      "needs_background": "light"
     },
     "output_type": "display_data"
    }
   ],
   "source": [
    "cmap = plt.pcolor(xx,yy,ww)\n",
    "plt.colorbar(cmap)"
   ]
  },
  {
   "cell_type": "code",
   "execution_count": 30,
   "id": "c6dfe7be-d0aa-4ee5-b78d-a74535c45a88",
   "metadata": {},
   "outputs": [
    {
     "data": {
      "text/plain": [
       "(62.0, 82.0)"
      ]
     },
     "execution_count": 30,
     "metadata": {},
     "output_type": "execute_result"
    },
    {
     "data": {
      "image/png": "[encoded data removed]",
      "text/plain": [
       "<Figure size 432x288 with 1 Axes>"
      ]
     },
     "metadata": {
      "needs_background": "light"
     },
     "output_type": "display_data"
    }
   ],
   "source": [
    "plt.plot(yy[50,:],ww[50,:],'xk')\n",
    "plt.xlim([62,82])"
   ]
  }
 ],
 "metadata": {
  "kernelspec": {
   "display_name": "Python 3 (ipykernel)",
   "language": "python",
   "name": "python3"
  },
  "language_info": {
   "codemirror_mode": {
    "name": "ipython",
    "version": 3
   },
   "file_extension": ".py",
   "mimetype": "text/x-python",
   "name": "python",
   "nbconvert_exporter": "python",
   "pygments_lexer": "ipython3",
   "version": "3.9.12"
  }
 },
 "nbformat": 4,
 "nbformat_minor": 5
}
